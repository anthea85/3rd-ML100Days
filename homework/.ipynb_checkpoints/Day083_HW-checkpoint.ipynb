{
 "cells": [
  {
   "cell_type": "markdown",
   "metadata": {},
   "source": [
    "## Work\n",
    "1. 試比較有 BN 在 Batch_size = 2, 16, 32, 128, 256 下的差異\n",
    "2. 請嘗試將 BN 放在 Activation 之前，並比較訓練結果\n",
    "3. 請於 BN 放在 Input Layer 後，並比較結果"
   ]
  },
  {
   "cell_type": "code",
   "execution_count": 1,
   "metadata": {},
   "outputs": [
    {
     "name": "stderr",
     "output_type": "stream",
     "text": [
      "Using TensorFlow backend.\n"
     ]
    }
   ],
   "source": [
    "import os\n",
    "import keras\n",
    "import itertools\n",
    "# Disable GPU\n",
    "os.environ[\"CUDA_VISIBLE_DEVICES\"] = \"\""
   ]
  },
  {
   "cell_type": "code",
   "execution_count": 2,
   "metadata": {},
   "outputs": [],
   "source": [
    "train, test = keras.datasets.cifar10.load_data()"
   ]
  },
  {
   "cell_type": "code",
   "execution_count": 3,
   "metadata": {},
   "outputs": [],
   "source": [
    "## 資料前處理\n",
    "def preproc_x(x, flatten=True):\n",
    "    x = x / 255.\n",
    "    if flatten:\n",
    "        x = x.reshape((len(x), -1))\n",
    "    return x\n",
    "\n",
    "def preproc_y(y, num_classes=10):\n",
    "    if y.shape[-1] == 1:\n",
    "        y = keras.utils.to_categorical(y, num_classes)\n",
    "    return y    "
   ]
  },
  {
   "cell_type": "code",
   "execution_count": 5,
   "metadata": {},
   "outputs": [],
   "source": [
    "x_train, y_train = train\n",
    "x_test, y_test = test\n",
    "\n",
    "# Preproc the inputs\n",
    "x_train = preproc_x(x_train)\n",
    "x_test = preproc_x(x_test)\n",
    "\n",
    "# Preprc the outputs\n",
    "y_train = preproc_y(y_train)\n",
    "y_test = preproc_y(y_test)"
   ]
  },
  {
   "cell_type": "code",
   "execution_count": 6,
   "metadata": {},
   "outputs": [],
   "source": [
    "from keras.layers import BatchNormalization\n",
    "\n",
    "\"\"\"\n",
    "建立神經網路，並加入 BN layer\n",
    "\"\"\"\n",
    "def build_mlp(input_shape, output_units=10, num_neurons=[512, 256, 128]):\n",
    "    input_layer = keras.layers.Input(input_shape)\n",
    "    \n",
    "    for i, n_units in enumerate(num_neurons):\n",
    "        if i == 0:\n",
    "            \n",
    "            x = keras.layers.Dense(units=n_units, \n",
    "                                   activation=\"relu\", \n",
    "                                   name=\"hidden_layer\"+str(i+1))(input_layer)\n",
    "            x = BatchNormalization()(x)\n",
    "\n",
    "        else:\n",
    "            x = keras.layers.Dense(units=n_units, \n",
    "                                   activation=\"relu\", \n",
    "                                   name=\"hidden_layer\"+str(i+1))(x)\n",
    "            x = BatchNormalization()(x)\n",
    "    \n",
    "    out = keras.layers.Dense(units=output_units, activation=\"softmax\", name=\"output\")(x)\n",
    "    \n",
    "    model = keras.models.Model(inputs=[input_layer], outputs=[out])\n",
    "    return model"
   ]
  },
  {
   "cell_type": "code",
   "execution_count": 7,
   "metadata": {},
   "outputs": [],
   "source": [
    "\"\"\"Code Here\n",
    "設定超參數\n",
    "\"\"\"\n",
    "LEARNING_RATE = 1e-3\n",
    "EPOCHS = 50\n",
    "BATCH_SIZE = 256\n",
    "MOMENTUM = 0.95"
   ]
  },
  {
   "cell_type": "code",
   "execution_count": 8,
   "metadata": {
    "scrolled": true
   },
   "outputs": [
    {
     "name": "stdout",
     "output_type": "stream",
     "text": [
      "Model: \"model_1\"\n",
      "_________________________________________________________________\n",
      "Layer (type)                 Output Shape              Param #   \n",
      "=================================================================\n",
      "input_1 (InputLayer)         (None, 3072)              0         \n",
      "_________________________________________________________________\n",
      "hidden_layer1 (Dense)        (None, 512)               1573376   \n",
      "_________________________________________________________________\n",
      "batch_normalization_1 (Batch (None, 512)               2048      \n",
      "_________________________________________________________________\n",
      "hidden_layer2 (Dense)        (None, 256)               131328    \n",
      "_________________________________________________________________\n",
      "batch_normalization_2 (Batch (None, 256)               1024      \n",
      "_________________________________________________________________\n",
      "hidden_layer3 (Dense)        (None, 128)               32896     \n",
      "_________________________________________________________________\n",
      "batch_normalization_3 (Batch (None, 128)               512       \n",
      "_________________________________________________________________\n",
      "output (Dense)               (None, 10)                1290      \n",
      "=================================================================\n",
      "Total params: 1,742,474\n",
      "Trainable params: 1,740,682\n",
      "Non-trainable params: 1,792\n",
      "_________________________________________________________________\n",
      "Train on 50000 samples, validate on 10000 samples\n",
      "Epoch 1/50\n",
      "50000/50000 [==============================] - 36s 726us/step - loss: 1.8478 - accuracy: 0.3683 - val_loss: 1.7547 - val_accuracy: 0.3717\n",
      "Epoch 2/50\n",
      "50000/50000 [==============================] - 16s 324us/step - loss: 1.5290 - accuracy: 0.4629 - val_loss: 1.5817 - val_accuracy: 0.4414\n",
      "Epoch 3/50\n",
      "50000/50000 [==============================] - 16s 320us/step - loss: 1.4289 - accuracy: 0.4999 - val_loss: 1.5786 - val_accuracy: 0.4465\n",
      "Epoch 4/50\n",
      "50000/50000 [==============================] - 16s 322us/step - loss: 1.3601 - accuracy: 0.5225 - val_loss: 1.5091 - val_accuracy: 0.4631\n",
      "Epoch 5/50\n",
      "50000/50000 [==============================] - 16s 320us/step - loss: 1.3029 - accuracy: 0.5445 - val_loss: 1.5008 - val_accuracy: 0.4715\n",
      "Epoch 6/50\n",
      "50000/50000 [==============================] - 16s 322us/step - loss: 1.2515 - accuracy: 0.5602 - val_loss: 1.4688 - val_accuracy: 0.4861\n",
      "Epoch 7/50\n",
      "50000/50000 [==============================] - 16s 323us/step - loss: 1.2065 - accuracy: 0.5771 - val_loss: 1.5033 - val_accuracy: 0.4678\n",
      "Epoch 8/50\n",
      "50000/50000 [==============================] - 16s 322us/step - loss: 1.1659 - accuracy: 0.5947 - val_loss: 1.4697 - val_accuracy: 0.4870\n",
      "Epoch 9/50\n",
      "50000/50000 [==============================] - 16s 318us/step - loss: 1.1280 - accuracy: 0.6061 - val_loss: 1.5148 - val_accuracy: 0.4750\n",
      "Epoch 10/50\n",
      "50000/50000 [==============================] - 16s 323us/step - loss: 1.0865 - accuracy: 0.6216 - val_loss: 1.4933 - val_accuracy: 0.4802\n",
      "Epoch 11/50\n",
      "50000/50000 [==============================] - 16s 325us/step - loss: 1.0496 - accuracy: 0.6355 - val_loss: 1.4845 - val_accuracy: 0.4840\n",
      "Epoch 12/50\n",
      "50000/50000 [==============================] - 16s 328us/step - loss: 1.0150 - accuracy: 0.6486 - val_loss: 1.5586 - val_accuracy: 0.4646\n",
      "Epoch 13/50\n",
      "50000/50000 [==============================] - 16s 329us/step - loss: 0.9781 - accuracy: 0.6620 - val_loss: 1.5175 - val_accuracy: 0.4763\n",
      "Epoch 14/50\n",
      "50000/50000 [==============================] - 17s 340us/step - loss: 0.9457 - accuracy: 0.6733 - val_loss: 1.5402 - val_accuracy: 0.4828\n",
      "Epoch 15/50\n",
      "50000/50000 [==============================] - 19s 374us/step - loss: 0.9172 - accuracy: 0.6822 - val_loss: 1.5613 - val_accuracy: 0.4738\n",
      "Epoch 16/50\n",
      "50000/50000 [==============================] - 16s 329us/step - loss: 0.8790 - accuracy: 0.6980 - val_loss: 1.5455 - val_accuracy: 0.4821\n",
      "Epoch 17/50\n",
      "50000/50000 [==============================] - 16s 329us/step - loss: 0.8491 - accuracy: 0.7089 - val_loss: 1.5308 - val_accuracy: 0.4917\n",
      "Epoch 18/50\n",
      "50000/50000 [==============================] - 16s 327us/step - loss: 0.8209 - accuracy: 0.7191 - val_loss: 1.5245 - val_accuracy: 0.4899\n",
      "Epoch 19/50\n",
      "50000/50000 [==============================] - 16s 327us/step - loss: 0.7898 - accuracy: 0.7316 - val_loss: 1.6660 - val_accuracy: 0.4709\n",
      "Epoch 20/50\n",
      "50000/50000 [==============================] - 16s 324us/step - loss: 0.7628 - accuracy: 0.7388 - val_loss: 1.6145 - val_accuracy: 0.4799\n",
      "Epoch 21/50\n",
      "50000/50000 [==============================] - 16s 328us/step - loss: 0.7281 - accuracy: 0.7546 - val_loss: 1.6048 - val_accuracy: 0.4764\n",
      "Epoch 22/50\n",
      "50000/50000 [==============================] - 16s 326us/step - loss: 0.7071 - accuracy: 0.7614 - val_loss: 1.6942 - val_accuracy: 0.4591\n",
      "Epoch 23/50\n",
      "50000/50000 [==============================] - 16s 325us/step - loss: 0.6776 - accuracy: 0.7727 - val_loss: 1.6596 - val_accuracy: 0.4821\n",
      "Epoch 24/50\n",
      "50000/50000 [==============================] - 16s 326us/step - loss: 0.6491 - accuracy: 0.7831 - val_loss: 1.8000 - val_accuracy: 0.4588\n",
      "Epoch 25/50\n",
      "50000/50000 [==============================] - 16s 329us/step - loss: 0.6229 - accuracy: 0.7921 - val_loss: 1.6770 - val_accuracy: 0.4753\n",
      "Epoch 26/50\n",
      "50000/50000 [==============================] - 16s 328us/step - loss: 0.5992 - accuracy: 0.8010 - val_loss: 1.6971 - val_accuracy: 0.4866\n",
      "Epoch 27/50\n",
      "50000/50000 [==============================] - 17s 330us/step - loss: 0.5721 - accuracy: 0.8120 - val_loss: 1.8139 - val_accuracy: 0.4648\n",
      "Epoch 28/50\n",
      "50000/50000 [==============================] - 16s 329us/step - loss: 0.5491 - accuracy: 0.8188 - val_loss: 1.7811 - val_accuracy: 0.4782\n",
      "Epoch 29/50\n",
      "50000/50000 [==============================] - 16s 324us/step - loss: 0.5224 - accuracy: 0.8282 - val_loss: 1.8813 - val_accuracy: 0.4601\n",
      "Epoch 30/50\n",
      "50000/50000 [==============================] - 16s 327us/step - loss: 0.5007 - accuracy: 0.8347 - val_loss: 1.8536 - val_accuracy: 0.4764\n",
      "Epoch 31/50\n",
      "50000/50000 [==============================] - 16s 328us/step - loss: 0.4773 - accuracy: 0.8452 - val_loss: 1.8097 - val_accuracy: 0.4858\n",
      "Epoch 32/50\n",
      "50000/50000 [==============================] - 16s 328us/step - loss: 0.4564 - accuracy: 0.8522 - val_loss: 1.7800 - val_accuracy: 0.4940\n",
      "Epoch 33/50\n",
      "50000/50000 [==============================] - 16s 327us/step - loss: 0.4264 - accuracy: 0.8635 - val_loss: 1.8852 - val_accuracy: 0.4756\n",
      "Epoch 34/50\n",
      "50000/50000 [==============================] - 16s 323us/step - loss: 0.4067 - accuracy: 0.8705 - val_loss: 1.9665 - val_accuracy: 0.4762\n",
      "Epoch 35/50\n",
      "50000/50000 [==============================] - 16s 325us/step - loss: 0.3879 - accuracy: 0.8778 - val_loss: 2.1100 - val_accuracy: 0.4649\n",
      "Epoch 36/50\n",
      "50000/50000 [==============================] - 16s 322us/step - loss: 0.3711 - accuracy: 0.8842 - val_loss: 2.0943 - val_accuracy: 0.4556\n",
      "Epoch 37/50\n",
      "50000/50000 [==============================] - 16s 327us/step - loss: 0.3568 - accuracy: 0.8868 - val_loss: 2.2466 - val_accuracy: 0.4590\n",
      "Epoch 38/50\n",
      "50000/50000 [==============================] - 16s 325us/step - loss: 0.3329 - accuracy: 0.8977 - val_loss: 2.1778 - val_accuracy: 0.4670\n",
      "Epoch 39/50\n",
      "50000/50000 [==============================] - 17s 333us/step - loss: 0.3086 - accuracy: 0.9075 - val_loss: 2.1225 - val_accuracy: 0.4582\n",
      "Epoch 40/50\n",
      "50000/50000 [==============================] - 17s 335us/step - loss: 0.2983 - accuracy: 0.9083 - val_loss: 2.1169 - val_accuracy: 0.4651\n",
      "Epoch 41/50\n",
      "50000/50000 [==============================] - 18s 357us/step - loss: 0.2903 - accuracy: 0.9117 - val_loss: 2.1537 - val_accuracy: 0.4695\n",
      "Epoch 42/50\n",
      "50000/50000 [==============================] - 17s 343us/step - loss: 0.2708 - accuracy: 0.9170 - val_loss: 2.2041 - val_accuracy: 0.4646\n",
      "Epoch 43/50\n",
      "50000/50000 [==============================] - 18s 350us/step - loss: 0.2497 - accuracy: 0.9269 - val_loss: 2.2220 - val_accuracy: 0.4629\n",
      "Epoch 44/50\n",
      "50000/50000 [==============================] - 16s 328us/step - loss: 0.2417 - accuracy: 0.9285 - val_loss: 2.2835 - val_accuracy: 0.4654\n",
      "Epoch 45/50\n",
      "50000/50000 [==============================] - 16s 323us/step - loss: 0.2304 - accuracy: 0.9336 - val_loss: 2.3170 - val_accuracy: 0.4591\n"
     ]
    },
    {
     "name": "stdout",
     "output_type": "stream",
     "text": [
      "Epoch 46/50\n",
      "50000/50000 [==============================] - 16s 312us/step - loss: 0.2137 - accuracy: 0.9384 - val_loss: 2.2584 - val_accuracy: 0.4809\n",
      "Epoch 47/50\n",
      "50000/50000 [==============================] - 16s 311us/step - loss: 0.2055 - accuracy: 0.9424 - val_loss: 2.3273 - val_accuracy: 0.4642\n",
      "Epoch 48/50\n",
      "50000/50000 [==============================] - 16s 311us/step - loss: 0.1957 - accuracy: 0.9450 - val_loss: 2.4412 - val_accuracy: 0.4645\n",
      "Epoch 49/50\n",
      "50000/50000 [==============================] - 16s 310us/step - loss: 0.1903 - accuracy: 0.9478 - val_loss: 2.3148 - val_accuracy: 0.4748\n",
      "Epoch 50/50\n",
      "50000/50000 [==============================] - 16s 314us/step - loss: 0.1759 - accuracy: 0.9516 - val_loss: 2.5345 - val_accuracy: 0.4621\n"
     ]
    }
   ],
   "source": [
    "results = {}\n",
    "\"\"\"Code Here\n",
    "撰寫你的訓練流程並將結果用 dictionary 紀錄\n",
    "\"\"\"\n",
    "model = build_mlp(input_shape=x_train.shape[1:])\n",
    "model.summary()\n",
    "optimizer = keras.optimizers.SGD(lr=LEARNING_RATE, nesterov=True, momentum=MOMENTUM)\n",
    "model.compile(loss=\"categorical_crossentropy\", metrics=[\"accuracy\"], optimizer=optimizer)\n",
    "\n",
    "model.fit(x_train, y_train, \n",
    "          epochs=EPOCHS, \n",
    "          batch_size=BATCH_SIZE, \n",
    "          validation_data=(x_test, y_test), \n",
    "          shuffle=True)\n",
    "\n",
    "# Collect results\n",
    "train_loss = model.history.history[\"loss\"]\n",
    "valid_loss = model.history.history[\"val_loss\"]\n",
    "train_acc = model.history.history[\"accuracy\"]\n",
    "valid_acc = model.history.history[\"val_accuracy\"]"
   ]
  },
  {
   "cell_type": "code",
   "execution_count": 9,
   "metadata": {},
   "outputs": [
    {
     "data": {
      "image/png": "[encoded data removed]",
      "text/plain": [
       "<Figure size 432x288 with 1 Axes>"
      ]
     },
     "metadata": {
      "needs_background": "light"
     },
     "output_type": "display_data"
    },
    {
     "data": {
      "image/png": "[encoded data removed]",
      "text/plain": [
       "<Figure size 432x288 with 1 Axes>"
      ]
     },
     "metadata": {
      "needs_background": "light"
     },
     "output_type": "display_data"
    }
   ],
   "source": [
    "import matplotlib.pyplot as plt\n",
    "%matplotlib inline\n",
    "\"\"\"Code Here\n",
    "將結果繪出\n",
    "\"\"\"\n",
    "plt.plot(range(len(train_loss)), train_loss, label=\"train loss\")\n",
    "plt.plot(range(len(valid_loss)), valid_loss, label=\"valid loss\")\n",
    "plt.legend()\n",
    "plt.title(\"Loss\")\n",
    "plt.show()\n",
    "\n",
    "plt.plot(range(len(train_acc)), train_acc, label=\"train accuracy\")\n",
    "plt.plot(range(len(valid_acc)), valid_acc, label=\"valid accuracy\")\n",
    "plt.legend()\n",
    "plt.title(\"Accuracy\")\n",
    "plt.show()"
   ]
  },
  {
   "cell_type": "code",
   "execution_count": null,
   "metadata": {},
   "outputs": [],
   "source": []
  }
 ],
 "metadata": {
  "kernelspec": {
   "display_name": "Python 3",
   "language": "python",
   "name": "python3"
  },
  "language_info": {
   "codemirror_mode": {
    "name": "ipython",
    "version": 3
   },
   "file_extension": ".py",
   "mimetype": "text/x-python",
   "name": "python",
   "nbconvert_exporter": "python",
   "pygments_lexer": "ipython3",
   "version": "3.7.3"
  }
 },
 "nbformat": 4,
 "nbformat_minor": 2
}
