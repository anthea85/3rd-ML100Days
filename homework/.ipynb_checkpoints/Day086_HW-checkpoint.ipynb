{
 "cells": [
  {
   "cell_type": "markdown",
   "metadata": {},
   "source": [
    "## Work\n",
    "1. 試比較 save_best_only 與否的差異\n",
    "2. 請僅存入將 save_weights_only 設定為 True, 並嘗試 reset ipynb 並將模型與權重重新建回並預測 x_test"
   ]
  },
  {
   "cell_type": "code",
   "execution_count": 17,
   "metadata": {},
   "outputs": [],
   "source": [
    "import os\n",
    "import keras\n",
    "\n",
    "# Disable GPU\n",
    "os.environ[\"CUDA_VISIBLE_DEVICES\"] = \"\""
   ]
  },
  {
   "cell_type": "code",
   "execution_count": 18,
   "metadata": {},
   "outputs": [],
   "source": [
    "train, test = keras.datasets.cifar10.load_data()"
   ]
  },
  {
   "cell_type": "code",
   "execution_count": 19,
   "metadata": {},
   "outputs": [],
   "source": [
    "## 資料前處理\n",
    "def preproc_x(x, flatten=True):\n",
    "    x = x / 255.\n",
    "    if flatten:\n",
    "        x = x.reshape((len(x), -1))\n",
    "    return x\n",
    "\n",
    "def preproc_y(y, num_classes=10):\n",
    "    if y.shape[-1] == 1:\n",
    "        y = keras.utils.to_categorical(y, num_classes)\n",
    "    return y    "
   ]
  },
  {
   "cell_type": "code",
   "execution_count": 20,
   "metadata": {},
   "outputs": [],
   "source": [
    "x_train, y_train = train\n",
    "x_test, y_test = test\n",
    "\n",
    "# Preproc the inputs\n",
    "x_train = preproc_x(x_train)\n",
    "x_test = preproc_x(x_test)\n",
    "\n",
    "# Preprc the outputs\n",
    "y_train = preproc_y(y_train)\n",
    "y_test = preproc_y(y_test)"
   ]
  },
  {
   "cell_type": "code",
   "execution_count": 21,
   "metadata": {},
   "outputs": [],
   "source": [
    "from keras.layers import BatchNormalization\n",
    "\n",
    "\"\"\"\n",
    "建立神經網路，並加入 BN layer\n",
    "\"\"\"\n",
    "def build_mlp(input_shape, output_units=10, num_neurons=[512, 256, 128]):\n",
    "    input_layer = keras.layers.Input(input_shape)\n",
    "    \n",
    "    for i, n_units in enumerate(num_neurons):\n",
    "        if i == 0:\n",
    "            x = keras.layers.Dense(units=n_units, \n",
    "                                   activation=\"relu\", \n",
    "                                   name=\"hidden_layer\"+str(i+1))(input_layer)\n",
    "            x = BatchNormalization()(x)\n",
    "        else:\n",
    "            x = keras.layers.Dense(units=n_units, \n",
    "                                   activation=\"relu\", \n",
    "                                   name=\"hidden_layer\"+str(i+1))(x)\n",
    "            x = BatchNormalization()(x)\n",
    "    \n",
    "    out = keras.layers.Dense(units=output_units, activation=\"softmax\", name=\"output\")(x)\n",
    "    \n",
    "    model = keras.models.Model(inputs=[input_layer], outputs=[out])\n",
    "    return model"
   ]
  },
  {
   "cell_type": "code",
   "execution_count": 22,
   "metadata": {},
   "outputs": [],
   "source": [
    "\"\"\"Code Here\n",
    "設定超參數\n",
    "\"\"\"\n",
    "LEARNING_RATE = 1e-3\n",
    "EPOCHS = 50\n",
    "BATCH_SIZE = 1024\n",
    "MOMENTUM = 0.95"
   ]
  },
  {
   "cell_type": "code",
   "execution_count": 23,
   "metadata": {
    "scrolled": true
   },
   "outputs": [
    {
     "name": "stdout",
     "output_type": "stream",
     "text": [
      "Model: \"model_3\"\n",
      "_________________________________________________________________\n",
      "Layer (type)                 Output Shape              Param #   \n",
      "=================================================================\n",
      "input_3 (InputLayer)         (None, 3072)              0         \n",
      "_________________________________________________________________\n",
      "hidden_layer1 (Dense)        (None, 512)               1573376   \n",
      "_________________________________________________________________\n",
      "batch_normalization_7 (Batch (None, 512)               2048      \n",
      "_________________________________________________________________\n",
      "hidden_layer2 (Dense)        (None, 256)               131328    \n",
      "_________________________________________________________________\n",
      "batch_normalization_8 (Batch (None, 256)               1024      \n",
      "_________________________________________________________________\n",
      "hidden_layer3 (Dense)        (None, 128)               32896     \n",
      "_________________________________________________________________\n",
      "batch_normalization_9 (Batch (None, 128)               512       \n",
      "_________________________________________________________________\n",
      "output (Dense)               (None, 10)                1290      \n",
      "=================================================================\n",
      "Total params: 1,742,474\n",
      "Trainable params: 1,740,682\n",
      "Non-trainable params: 1,792\n",
      "_________________________________________________________________\n",
      "Train on 50000 samples, validate on 10000 samples\n",
      "Epoch 1/50\n",
      "50000/50000 [==============================] - 14s 272us/step - loss: 2.2354 - accuracy: 0.2660 - val_loss: 2.1847 - val_accuracy: 0.1801\n",
      "Epoch 2/50\n",
      "50000/50000 [==============================] - 10s 196us/step - loss: 1.7593 - accuracy: 0.3888 - val_loss: 1.9981 - val_accuracy: 0.2674\n",
      "Epoch 3/50\n",
      "50000/50000 [==============================] - 10s 197us/step - loss: 1.6300 - accuracy: 0.4306 - val_loss: 1.8367 - val_accuracy: 0.3533\n",
      "Epoch 4/50\n",
      "50000/50000 [==============================] - 10s 197us/step - loss: 1.5535 - accuracy: 0.4559 - val_loss: 1.7258 - val_accuracy: 0.3971\n",
      "Epoch 5/50\n",
      "50000/50000 [==============================] - 10s 197us/step - loss: 1.4966 - accuracy: 0.4772 - val_loss: 1.6466 - val_accuracy: 0.4224\n",
      "Epoch 6/50\n",
      "50000/50000 [==============================] - 10s 198us/step - loss: 1.4498 - accuracy: 0.4941 - val_loss: 1.5926 - val_accuracy: 0.4384\n",
      "Epoch 7/50\n",
      "50000/50000 [==============================] - 10s 198us/step - loss: 1.4103 - accuracy: 0.5085 - val_loss: 1.5517 - val_accuracy: 0.4542\n",
      "Epoch 8/50\n",
      "50000/50000 [==============================] - 10s 196us/step - loss: 1.3741 - accuracy: 0.5213 - val_loss: 1.5242 - val_accuracy: 0.4663\n",
      "Epoch 9/50\n",
      "50000/50000 [==============================] - 10s 199us/step - loss: 1.3427 - accuracy: 0.5315 - val_loss: 1.5126 - val_accuracy: 0.4685\n",
      "Epoch 10/50\n",
      "50000/50000 [==============================] - 10s 197us/step - loss: 1.3112 - accuracy: 0.5454 - val_loss: 1.4959 - val_accuracy: 0.4755\n",
      "Epoch 11/50\n",
      "50000/50000 [==============================] - 10s 196us/step - loss: 1.2838 - accuracy: 0.5576 - val_loss: 1.4860 - val_accuracy: 0.4724\n",
      "Epoch 12/50\n",
      "50000/50000 [==============================] - 10s 196us/step - loss: 1.2572 - accuracy: 0.5663 - val_loss: 1.4870 - val_accuracy: 0.4767\n",
      "Epoch 13/50\n",
      "50000/50000 [==============================] - 10s 197us/step - loss: 1.2310 - accuracy: 0.5745 - val_loss: 1.4831 - val_accuracy: 0.4752\n",
      "Epoch 14/50\n",
      "50000/50000 [==============================] - 10s 197us/step - loss: 1.2077 - accuracy: 0.5847 - val_loss: 1.4722 - val_accuracy: 0.4851\n",
      "Epoch 15/50\n",
      "50000/50000 [==============================] - 10s 197us/step - loss: 1.1833 - accuracy: 0.5937 - val_loss: 1.4798 - val_accuracy: 0.4786\n",
      "Epoch 16/50\n",
      "50000/50000 [==============================] - 10s 196us/step - loss: 1.1604 - accuracy: 0.5998 - val_loss: 1.4702 - val_accuracy: 0.4857\n",
      "Epoch 17/50\n",
      "50000/50000 [==============================] - 10s 196us/step - loss: 1.1377 - accuracy: 0.6106 - val_loss: 1.4710 - val_accuracy: 0.4852\n",
      "Epoch 18/50\n",
      "50000/50000 [==============================] - 10s 199us/step - loss: 1.1152 - accuracy: 0.6186 - val_loss: 1.4620 - val_accuracy: 0.4860\n",
      "Epoch 19/50\n",
      "50000/50000 [==============================] - 10s 200us/step - loss: 1.0930 - accuracy: 0.6257 - val_loss: 1.4723 - val_accuracy: 0.4824\n",
      "Epoch 20/50\n",
      "50000/50000 [==============================] - 10s 196us/step - loss: 1.0717 - accuracy: 0.6360 - val_loss: 1.4764 - val_accuracy: 0.4847\n",
      "Epoch 21/50\n",
      "50000/50000 [==============================] - 10s 197us/step - loss: 1.0511 - accuracy: 0.6426 - val_loss: 1.4571 - val_accuracy: 0.4901\n",
      "Epoch 22/50\n",
      "50000/50000 [==============================] - 10s 197us/step - loss: 1.0296 - accuracy: 0.6512 - val_loss: 1.4734 - val_accuracy: 0.4891\n",
      "Epoch 23/50\n",
      "50000/50000 [==============================] - 10s 196us/step - loss: 1.0084 - accuracy: 0.6602 - val_loss: 1.4637 - val_accuracy: 0.4915\n",
      "Epoch 24/50\n",
      "50000/50000 [==============================] - 10s 196us/step - loss: 0.9867 - accuracy: 0.6684 - val_loss: 1.4668 - val_accuracy: 0.4895\n",
      "Epoch 25/50\n",
      "50000/50000 [==============================] - 10s 196us/step - loss: 0.9670 - accuracy: 0.6755 - val_loss: 1.4650 - val_accuracy: 0.4919\n",
      "Epoch 26/50\n",
      "50000/50000 [==============================] - 10s 197us/step - loss: 0.9461 - accuracy: 0.6847 - val_loss: 1.4708 - val_accuracy: 0.4950\n",
      "Epoch 27/50\n",
      "50000/50000 [==============================] - 10s 197us/step - loss: 0.9270 - accuracy: 0.6917 - val_loss: 1.4796 - val_accuracy: 0.4933\n",
      "Epoch 28/50\n",
      "50000/50000 [==============================] - 10s 196us/step - loss: 0.9072 - accuracy: 0.7006 - val_loss: 1.4807 - val_accuracy: 0.4900\n",
      "Epoch 29/50\n",
      "50000/50000 [==============================] - 10s 196us/step - loss: 0.8864 - accuracy: 0.7077 - val_loss: 1.4988 - val_accuracy: 0.4885\n",
      "Epoch 30/50\n",
      "50000/50000 [==============================] - 10s 197us/step - loss: 0.8668 - accuracy: 0.7153 - val_loss: 1.4950 - val_accuracy: 0.4951\n",
      "Epoch 31/50\n",
      "50000/50000 [==============================] - 10s 196us/step - loss: 0.8458 - accuracy: 0.7238 - val_loss: 1.4989 - val_accuracy: 0.4937\n",
      "Epoch 32/50\n",
      "50000/50000 [==============================] - 10s 197us/step - loss: 0.8262 - accuracy: 0.7312 - val_loss: 1.4974 - val_accuracy: 0.4939\n",
      "Epoch 33/50\n",
      "50000/50000 [==============================] - 10s 197us/step - loss: 0.8091 - accuracy: 0.7377 - val_loss: 1.5132 - val_accuracy: 0.4952\n",
      "Epoch 34/50\n",
      "50000/50000 [==============================] - 10s 197us/step - loss: 0.7909 - accuracy: 0.7461 - val_loss: 1.5268 - val_accuracy: 0.4912\n",
      "Epoch 35/50\n",
      "50000/50000 [==============================] - 10s 197us/step - loss: 0.7689 - accuracy: 0.7541 - val_loss: 1.5314 - val_accuracy: 0.4930\n",
      "Epoch 36/50\n",
      "50000/50000 [==============================] - 10s 197us/step - loss: 0.7496 - accuracy: 0.7605 - val_loss: 1.5280 - val_accuracy: 0.4930\n",
      "Epoch 37/50\n",
      "50000/50000 [==============================] - 10s 197us/step - loss: 0.7326 - accuracy: 0.7684 - val_loss: 1.5460 - val_accuracy: 0.4910\n",
      "Epoch 38/50\n",
      "50000/50000 [==============================] - 10s 197us/step - loss: 0.7124 - accuracy: 0.7752 - val_loss: 1.5457 - val_accuracy: 0.4907\n",
      "Epoch 39/50\n",
      "50000/50000 [==============================] - 10s 200us/step - loss: 0.6949 - accuracy: 0.7831 - val_loss: 1.5548 - val_accuracy: 0.4889\n",
      "Epoch 40/50\n",
      "50000/50000 [==============================] - 10s 197us/step - loss: 0.6758 - accuracy: 0.7905 - val_loss: 1.5817 - val_accuracy: 0.4892\n",
      "Epoch 41/50\n",
      "50000/50000 [==============================] - 10s 196us/step - loss: 0.6587 - accuracy: 0.7971 - val_loss: 1.5772 - val_accuracy: 0.4891\n",
      "Epoch 42/50\n",
      "50000/50000 [==============================] - 10s 197us/step - loss: 0.6404 - accuracy: 0.8054 - val_loss: 1.6019 - val_accuracy: 0.4883\n",
      "Epoch 43/50\n",
      "50000/50000 [==============================] - 10s 197us/step - loss: 0.6227 - accuracy: 0.8117 - val_loss: 1.5949 - val_accuracy: 0.4924\n",
      "Epoch 44/50\n",
      "50000/50000 [==============================] - 10s 196us/step - loss: 0.6032 - accuracy: 0.8207 - val_loss: 1.6173 - val_accuracy: 0.4850\n",
      "Epoch 45/50\n"
     ]
    },
    {
     "name": "stdout",
     "output_type": "stream",
     "text": [
      "50000/50000 [==============================] - 10s 196us/step - loss: 0.5865 - accuracy: 0.8275 - val_loss: 1.6317 - val_accuracy: 0.4846\n",
      "Epoch 46/50\n",
      "50000/50000 [==============================] - 10s 193us/step - loss: 0.5689 - accuracy: 0.8348 - val_loss: 1.6422 - val_accuracy: 0.4844\n",
      "Epoch 47/50\n",
      "50000/50000 [==============================] - 10s 194us/step - loss: 0.5539 - accuracy: 0.8392 - val_loss: 1.6551 - val_accuracy: 0.4884\n",
      "Epoch 48/50\n",
      "50000/50000 [==============================] - 10s 193us/step - loss: 0.5364 - accuracy: 0.8472 - val_loss: 1.6659 - val_accuracy: 0.4877\n",
      "Epoch 49/50\n",
      "50000/50000 [==============================] - 10s 194us/step - loss: 0.5218 - accuracy: 0.8531 - val_loss: 1.6840 - val_accuracy: 0.4846\n",
      "Epoch 50/50\n",
      "50000/50000 [==============================] - 10s 194us/step - loss: 0.5065 - accuracy: 0.8566 - val_loss: 1.6902 - val_accuracy: 0.4845\n",
      "10000/10000 [==============================] - 2s 201us/step\n"
     ]
    }
   ],
   "source": [
    "# 載入 Callbacks\n",
    "\"\"\"Code Here\n",
    "設定 callbacks: model checkpoint\n",
    "\"\"\"\n",
    "from keras.callbacks import ModelCheckpoint\n",
    "\n",
    "model_ckpt = ModelCheckpoint(filepath=\"./tmp.h5\", \n",
    "                             monitor=\"val_loss\", \n",
    "                             save_best_only=True)\n",
    "results = {}\n",
    "\"\"\"Code Here\n",
    "撰寫你的訓練流程並將結果用 dictionary 紀錄\n",
    "\"\"\"\n",
    "model = build_mlp(input_shape=x_train.shape[1:])\n",
    "model.summary()\n",
    "optimizer = keras.optimizers.SGD(lr=LEARNING_RATE, nesterov=True, momentum=MOMENTUM)\n",
    "model.compile(loss=\"categorical_crossentropy\", metrics=[\"accuracy\"], optimizer=optimizer)\n",
    "\n",
    "model.fit(x_train, y_train, \n",
    "          epochs=EPOCHS, \n",
    "          batch_size=BATCH_SIZE, \n",
    "          validation_data=(x_test, y_test), \n",
    "          shuffle=True,\n",
    "          callbacks=[model_ckpt]\n",
    "         )\n",
    "\n",
    "# Collect results\n",
    "train_loss = model.history.history[\"loss\"]\n",
    "valid_loss = model.history.history[\"val_loss\"]\n",
    "train_acc = model.history.history[\"accuracy\"]\n",
    "valid_acc = model.history.history[\"val_accuracy\"]\n",
    "\n",
    "# Load back\n",
    "model = keras.models.load_model(\"./tmp.h5\")\n",
    "loss_loadback, acc_loadback = model.evaluate(x_test, y_test)"
   ]
  },
  {
   "cell_type": "code",
   "execution_count": 24,
   "metadata": {
    "scrolled": true
   },
   "outputs": [
    {
     "data": {
      "image/png": "[encoded data removed]",
      "text/plain": [
       "<Figure size 432x288 with 1 Axes>"
      ]
     },
     "metadata": {
      "needs_background": "light"
     },
     "output_type": "display_data"
    },
    {
     "data": {
      "image/png": "[encoded data removed]",
      "text/plain": [
       "<Figure size 432x288 with 1 Axes>"
      ]
     },
     "metadata": {
      "needs_background": "light"
     },
     "output_type": "display_data"
    }
   ],
   "source": [
    "import matplotlib.pyplot as plt\n",
    "%matplotlib inline\n",
    "\"\"\"Code Here\n",
    "將結果繪出\n",
    "\"\"\"\n",
    "plt.plot(range(len(train_loss)), train_loss, label=\"train loss\")\n",
    "plt.plot(range(len(valid_loss)), valid_loss, label=\"valid loss\")\n",
    "plt.hlines(y=loss_loadback, xmin=0, xmax=len(train_loss), colors='r', linestyles='--')\n",
    "plt.legend()\n",
    "plt.title(\"Loss\")\n",
    "plt.show()\n",
    "\n",
    "plt.plot(range(len(train_acc)), train_acc, label=\"train accuracy\")\n",
    "plt.plot(range(len(valid_acc)), valid_acc, label=\"valid accuracy\")\n",
    "plt.hlines(y=acc_loadback, xmin=0, xmax=len(train_loss), colors='r', linestyles='--')\n",
    "plt.legend()\n",
    "plt.title(\"Accuracy\")\n",
    "plt.show()"
   ]
  },
  {
   "cell_type": "code",
   "execution_count": null,
   "metadata": {},
   "outputs": [],
   "source": []
  },
  {
   "cell_type": "code",
   "execution_count": null,
   "metadata": {},
   "outputs": [],
   "source": []
  }
 ],
 "metadata": {
  "kernelspec": {
   "display_name": "Python 3",
   "language": "python",
   "name": "python3"
  },
  "language_info": {
   "codemirror_mode": {
    "name": "ipython",
    "version": 3
   },
   "file_extension": ".py",
   "mimetype": "text/x-python",
   "name": "python",
   "nbconvert_exporter": "python",
   "pygments_lexer": "ipython3",
   "version": "3.7.3"
  }
 },
 "nbformat": 4,
 "nbformat_minor": 2
}
