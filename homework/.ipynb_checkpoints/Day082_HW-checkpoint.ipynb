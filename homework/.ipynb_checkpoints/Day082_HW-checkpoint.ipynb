{
 "cells": [
  {
   "cell_type": "markdown",
   "metadata": {},
   "source": [
    "## Work\n",
    "1. 請比較使用不同層數以及不同 Dropout rate 對訓練的效果\n",
    "2. 將 optimizer 改成使用 Adam 並加上適當的 dropout rate 檢視結果"
   ]
  },
  {
   "cell_type": "code",
   "execution_count": 1,
   "metadata": {},
   "outputs": [
    {
     "name": "stderr",
     "output_type": "stream",
     "text": [
      "Using TensorFlow backend.\n"
     ]
    }
   ],
   "source": [
    "import os\n",
    "import keras\n",
    "import itertools\n",
    "# Disable GPU\n",
    "os.environ[\"CUDA_VISIBLE_DEVICES\"] = \"\""
   ]
  },
  {
   "cell_type": "code",
   "execution_count": 2,
   "metadata": {},
   "outputs": [],
   "source": [
    "train, test = keras.datasets.cifar10.load_data()"
   ]
  },
  {
   "cell_type": "code",
   "execution_count": 3,
   "metadata": {},
   "outputs": [],
   "source": [
    "## 資料前處理\n",
    "def preproc_x(x, flatten=True):\n",
    "    x = x / 255.\n",
    "    if flatten:\n",
    "        x = x.reshape((len(x), -1))\n",
    "    return x\n",
    "\n",
    "def preproc_y(y, num_classes=10):\n",
    "    if y.shape[-1] == 1:\n",
    "        y = keras.utils.to_categorical(y, num_classes)\n",
    "    return y    "
   ]
  },
  {
   "cell_type": "code",
   "execution_count": 4,
   "metadata": {},
   "outputs": [],
   "source": [
    "x_train, y_train = train\n",
    "x_test, y_test = test\n",
    "\n",
    "# Preproc the inputs\n",
    "x_train = preproc_x(x_train)\n",
    "x_test = preproc_x(x_test)\n",
    "\n",
    "# Preprc the outputs\n",
    "y_train = preproc_y(y_train)\n",
    "y_test = preproc_y(y_test)"
   ]
  },
  {
   "cell_type": "code",
   "execution_count": 5,
   "metadata": {},
   "outputs": [],
   "source": [
    "from keras.layers import Dropout\n",
    "\n",
    "\"\"\"\n",
    "建立神經網路，並加入 dropout layer\n",
    "\"\"\"\n",
    "def build_mlp(input_shape, output_units=10, num_neurons=[512, 256, 128], drp_ratio=0.2):\n",
    "    input_layer = keras.layers.Input(input_shape)\n",
    "    \n",
    "    for i, n_units in enumerate(num_neurons):\n",
    "        if i == 0:\n",
    "            x = keras.layers.Dense(units=n_units, \n",
    "                                   activation=\"relu\", \n",
    "                                   name=\"hidden_layer\"+str(i+1))(input_layer)\n",
    "            x = Dropout(drp_ratio)(x)\n",
    "        else:\n",
    "            x = keras.layers.Dense(units=n_units, \n",
    "                                   activation=\"relu\", \n",
    "                                   name=\"hidden_layer\"+str(i+1))(x)\n",
    "            x = Dropout(drp_ratio)(x)\n",
    "    \n",
    "    out = keras.layers.Dense(units=output_units, activation=\"softmax\", name=\"output\")(x)\n",
    "    \n",
    "    model = keras.models.Model(inputs=[input_layer], outputs=[out])\n",
    "    return model"
   ]
  },
  {
   "cell_type": "code",
   "execution_count": 6,
   "metadata": {},
   "outputs": [],
   "source": [
    "\"\"\"Code Here\n",
    "設定超參數\n",
    "\"\"\"\n",
    "LEARNING_RATE = 1e-3\n",
    "EPOCHS = 50\n",
    "BATCH_SIZE = 256\n",
    "MOMENTUM = 0.95\n",
    "Dropout_EXP = 0.25"
   ]
  },
  {
   "cell_type": "code",
   "execution_count": 8,
   "metadata": {
    "scrolled": true
   },
   "outputs": [
    {
     "name": "stdout",
     "output_type": "stream",
     "text": [
      "Model: \"model_1\"\n",
      "_________________________________________________________________\n",
      "Layer (type)                 Output Shape              Param #   \n",
      "=================================================================\n",
      "input_1 (InputLayer)         (None, 3072)              0         \n",
      "_________________________________________________________________\n",
      "hidden_layer1 (Dense)        (None, 512)               1573376   \n",
      "_________________________________________________________________\n",
      "dropout_1 (Dropout)          (None, 512)               0         \n",
      "_________________________________________________________________\n",
      "hidden_layer2 (Dense)        (None, 256)               131328    \n",
      "_________________________________________________________________\n",
      "dropout_2 (Dropout)          (None, 256)               0         \n",
      "_________________________________________________________________\n",
      "hidden_layer3 (Dense)        (None, 128)               32896     \n",
      "_________________________________________________________________\n",
      "dropout_3 (Dropout)          (None, 128)               0         \n",
      "_________________________________________________________________\n",
      "output (Dense)               (None, 10)                1290      \n",
      "=================================================================\n",
      "Total params: 1,738,890\n",
      "Trainable params: 1,738,890\n",
      "Non-trainable params: 0\n",
      "_________________________________________________________________\n",
      "Train on 50000 samples, validate on 10000 samples\n",
      "Epoch 1/50\n",
      "50000/50000 [==============================] - 24s 486us/step - loss: 2.1752 - accuracy: 0.1879 - val_loss: 1.9731 - val_accuracy: 0.3032\n",
      "Epoch 2/50\n",
      "50000/50000 [==============================] - 15s 293us/step - loss: 1.9831 - accuracy: 0.2705 - val_loss: 1.8578 - val_accuracy: 0.3510\n",
      "Epoch 3/50\n",
      "50000/50000 [==============================] - 15s 293us/step - loss: 1.8990 - accuracy: 0.3134 - val_loss: 1.7905 - val_accuracy: 0.3750\n",
      "Epoch 4/50\n",
      "50000/50000 [==============================] - 15s 293us/step - loss: 1.8432 - accuracy: 0.3375 - val_loss: 1.7391 - val_accuracy: 0.3899\n",
      "Epoch 5/50\n",
      "50000/50000 [==============================] - 15s 294us/step - loss: 1.7990 - accuracy: 0.3538 - val_loss: 1.6960 - val_accuracy: 0.4014\n",
      "Epoch 6/50\n",
      "50000/50000 [==============================] - 15s 293us/step - loss: 1.7666 - accuracy: 0.3644 - val_loss: 1.6648 - val_accuracy: 0.4120\n",
      "Epoch 7/50\n",
      "50000/50000 [==============================] - 15s 300us/step - loss: 1.7349 - accuracy: 0.3783 - val_loss: 1.6341 - val_accuracy: 0.4212\n",
      "Epoch 8/50\n",
      "50000/50000 [==============================] - 15s 304us/step - loss: 1.7104 - accuracy: 0.3864 - val_loss: 1.6207 - val_accuracy: 0.4265\n",
      "Epoch 9/50\n",
      "50000/50000 [==============================] - 15s 301us/step - loss: 1.6901 - accuracy: 0.3962 - val_loss: 1.5958 - val_accuracy: 0.4403\n",
      "Epoch 10/50\n",
      "50000/50000 [==============================] - 15s 304us/step - loss: 1.6713 - accuracy: 0.4028 - val_loss: 1.5733 - val_accuracy: 0.4457\n",
      "Epoch 11/50\n",
      "50000/50000 [==============================] - 15s 302us/step - loss: 1.6510 - accuracy: 0.4111 - val_loss: 1.5526 - val_accuracy: 0.4515\n",
      "Epoch 12/50\n",
      "50000/50000 [==============================] - 15s 298us/step - loss: 1.6349 - accuracy: 0.4162 - val_loss: 1.5369 - val_accuracy: 0.4551\n",
      "Epoch 13/50\n",
      "50000/50000 [==============================] - 15s 294us/step - loss: 1.6139 - accuracy: 0.4244 - val_loss: 1.5244 - val_accuracy: 0.4614\n",
      "Epoch 14/50\n",
      "50000/50000 [==============================] - 15s 294us/step - loss: 1.6048 - accuracy: 0.4274 - val_loss: 1.5164 - val_accuracy: 0.4643\n",
      "Epoch 15/50\n",
      "50000/50000 [==============================] - 15s 296us/step - loss: 1.5867 - accuracy: 0.4348 - val_loss: 1.5004 - val_accuracy: 0.4691\n",
      "Epoch 16/50\n",
      "50000/50000 [==============================] - 15s 295us/step - loss: 1.5730 - accuracy: 0.4428 - val_loss: 1.5026 - val_accuracy: 0.4639\n",
      "Epoch 17/50\n",
      "50000/50000 [==============================] - 15s 294us/step - loss: 1.5599 - accuracy: 0.4441 - val_loss: 1.4764 - val_accuracy: 0.4777\n",
      "Epoch 18/50\n",
      "50000/50000 [==============================] - 15s 296us/step - loss: 1.5458 - accuracy: 0.4481 - val_loss: 1.4632 - val_accuracy: 0.4795\n",
      "Epoch 19/50\n",
      "50000/50000 [==============================] - 15s 295us/step - loss: 1.5357 - accuracy: 0.4536 - val_loss: 1.4670 - val_accuracy: 0.4786\n",
      "Epoch 20/50\n",
      "50000/50000 [==============================] - 15s 295us/step - loss: 1.5225 - accuracy: 0.4590 - val_loss: 1.4576 - val_accuracy: 0.4779\n",
      "Epoch 21/50\n",
      "50000/50000 [==============================] - 15s 296us/step - loss: 1.5136 - accuracy: 0.4615 - val_loss: 1.4459 - val_accuracy: 0.4897\n",
      "Epoch 22/50\n",
      "50000/50000 [==============================] - 15s 297us/step - loss: 1.4999 - accuracy: 0.4661 - val_loss: 1.4306 - val_accuracy: 0.4874\n",
      "Epoch 23/50\n",
      "50000/50000 [==============================] - 15s 298us/step - loss: 1.4877 - accuracy: 0.4714 - val_loss: 1.4245 - val_accuracy: 0.4972\n",
      "Epoch 24/50\n",
      "50000/50000 [==============================] - 15s 298us/step - loss: 1.4797 - accuracy: 0.4733 - val_loss: 1.4419 - val_accuracy: 0.4870\n",
      "Epoch 25/50\n",
      "50000/50000 [==============================] - 15s 300us/step - loss: 1.4693 - accuracy: 0.4757 - val_loss: 1.4106 - val_accuracy: 0.5004\n",
      "Epoch 26/50\n",
      "50000/50000 [==============================] - 15s 301us/step - loss: 1.4626 - accuracy: 0.4804 - val_loss: 1.4000 - val_accuracy: 0.5013\n",
      "Epoch 27/50\n",
      "50000/50000 [==============================] - 15s 302us/step - loss: 1.4475 - accuracy: 0.4853 - val_loss: 1.3961 - val_accuracy: 0.5040\n",
      "Epoch 28/50\n",
      "50000/50000 [==============================] - 15s 305us/step - loss: 1.4412 - accuracy: 0.4884 - val_loss: 1.3884 - val_accuracy: 0.5055\n",
      "Epoch 29/50\n",
      "50000/50000 [==============================] - 16s 314us/step - loss: 1.4310 - accuracy: 0.4890 - val_loss: 1.3828 - val_accuracy: 0.5082\n",
      "Epoch 30/50\n",
      "50000/50000 [==============================] - 16s 315us/step - loss: 1.4216 - accuracy: 0.4952 - val_loss: 1.3798 - val_accuracy: 0.5069\n",
      "Epoch 31/50\n",
      "50000/50000 [==============================] - 15s 298us/step - loss: 1.4173 - accuracy: 0.4957 - val_loss: 1.3702 - val_accuracy: 0.5156\n",
      "Epoch 32/50\n",
      "50000/50000 [==============================] - 15s 299us/step - loss: 1.4036 - accuracy: 0.5022 - val_loss: 1.3627 - val_accuracy: 0.5102\n",
      "Epoch 33/50\n",
      "50000/50000 [==============================] - 15s 298us/step - loss: 1.3986 - accuracy: 0.5016 - val_loss: 1.3634 - val_accuracy: 0.5129\n",
      "Epoch 34/50\n",
      "50000/50000 [==============================] - 15s 298us/step - loss: 1.3914 - accuracy: 0.5030 - val_loss: 1.3616 - val_accuracy: 0.5138\n",
      "Epoch 35/50\n",
      "50000/50000 [==============================] - 15s 298us/step - loss: 1.3849 - accuracy: 0.5057 - val_loss: 1.3588 - val_accuracy: 0.5184\n",
      "Epoch 36/50\n",
      "50000/50000 [==============================] - 15s 298us/step - loss: 1.3782 - accuracy: 0.5091 - val_loss: 1.3499 - val_accuracy: 0.5263\n",
      "Epoch 37/50\n",
      "50000/50000 [==============================] - 15s 298us/step - loss: 1.3705 - accuracy: 0.5111 - val_loss: 1.3543 - val_accuracy: 0.5152\n",
      "Epoch 38/50\n",
      "50000/50000 [==============================] - 15s 299us/step - loss: 1.3629 - accuracy: 0.5146 - val_loss: 1.3448 - val_accuracy: 0.5204\n",
      "Epoch 39/50\n",
      "50000/50000 [==============================] - 15s 299us/step - loss: 1.3540 - accuracy: 0.5211 - val_loss: 1.3471 - val_accuracy: 0.5223\n",
      "Epoch 40/50\n",
      "50000/50000 [==============================] - 15s 300us/step - loss: 1.3463 - accuracy: 0.5208 - val_loss: 1.3331 - val_accuracy: 0.5244\n",
      "Epoch 41/50\n",
      "50000/50000 [==============================] - 15s 300us/step - loss: 1.3376 - accuracy: 0.5241 - val_loss: 1.3344 - val_accuracy: 0.5244\n",
      "Epoch 42/50\n",
      "50000/50000 [==============================] - 15s 301us/step - loss: 1.3350 - accuracy: 0.5244 - val_loss: 1.3260 - val_accuracy: 0.5294\n",
      "Epoch 43/50\n",
      "50000/50000 [==============================] - 15s 299us/step - loss: 1.3274 - accuracy: 0.5292 - val_loss: 1.3290 - val_accuracy: 0.5208\n",
      "Epoch 44/50\n",
      "50000/50000 [==============================] - 15s 298us/step - loss: 1.3181 - accuracy: 0.5285 - val_loss: 1.3287 - val_accuracy: 0.5239\n",
      "Epoch 45/50\n",
      "50000/50000 [==============================] - 15s 300us/step - loss: 1.3147 - accuracy: 0.5315 - val_loss: 1.3248 - val_accuracy: 0.5230\n"
     ]
    },
    {
     "name": "stdout",
     "output_type": "stream",
     "text": [
      "Epoch 46/50\n",
      "50000/50000 [==============================] - 14s 286us/step - loss: 1.3116 - accuracy: 0.5331 - val_loss: 1.3172 - val_accuracy: 0.5304\n",
      "Epoch 47/50\n",
      "50000/50000 [==============================] - 14s 286us/step - loss: 1.3044 - accuracy: 0.5348 - val_loss: 1.3139 - val_accuracy: 0.5317\n",
      "Epoch 48/50\n",
      "50000/50000 [==============================] - 14s 285us/step - loss: 1.2990 - accuracy: 0.5355 - val_loss: 1.3144 - val_accuracy: 0.5283\n",
      "Epoch 49/50\n",
      "50000/50000 [==============================] - 14s 287us/step - loss: 1.2865 - accuracy: 0.5391 - val_loss: 1.3125 - val_accuracy: 0.5285\n",
      "Epoch 50/50\n",
      "50000/50000 [==============================] - 14s 287us/step - loss: 1.2836 - accuracy: 0.5400 - val_loss: 1.3020 - val_accuracy: 0.5349\n"
     ]
    }
   ],
   "source": [
    "results = {}\n",
    "\"\"\"Code Here\n",
    "撰寫你的訓練流程並將結果用 dictionary 紀錄\n",
    "\"\"\"\n",
    "model = build_mlp(input_shape=x_train.shape[1:], drp_ratio=Dropout_EXP)\n",
    "model.summary()\n",
    "optimizer = keras.optimizers.SGD(lr=LEARNING_RATE, nesterov=True, momentum=MOMENTUM)\n",
    "model.compile(loss=\"categorical_crossentropy\", metrics=[\"accuracy\"], optimizer=optimizer)\n",
    "\n",
    "model.fit(x_train, y_train, \n",
    "          epochs=EPOCHS, \n",
    "          batch_size=BATCH_SIZE, \n",
    "          validation_data=(x_test, y_test), \n",
    "          shuffle=True)\n",
    "\n",
    "# Collect results\n",
    "train_loss = model.history.history[\"loss\"]\n",
    "valid_loss = model.history.history[\"val_loss\"]\n",
    "train_acc = model.history.history[\"accuracy\"]\n",
    "valid_acc = model.history.history[\"val_accuracy\"]"
   ]
  },
  {
   "cell_type": "code",
   "execution_count": 9,
   "metadata": {},
   "outputs": [
    {
     "data": {
      "image/png": "[encoded data removed]",
      "text/plain": [
       "<Figure size 432x288 with 1 Axes>"
      ]
     },
     "metadata": {
      "needs_background": "light"
     },
     "output_type": "display_data"
    },
    {
     "data": {
      "image/png": "[encoded data removed]",
      "text/plain": [
       "<Figure size 432x288 with 1 Axes>"
      ]
     },
     "metadata": {
      "needs_background": "light"
     },
     "output_type": "display_data"
    }
   ],
   "source": [
    "import matplotlib.pyplot as plt\n",
    "%matplotlib inline\n",
    "\"\"\"Code Here\n",
    "將結果繪出\n",
    "\"\"\"\n",
    "plt.plot(range(len(train_loss)), train_loss, label=\"train loss\")\n",
    "plt.plot(range(len(valid_loss)), valid_loss, label=\"valid loss\")\n",
    "plt.legend()\n",
    "plt.title(\"Loss\")\n",
    "plt.show()\n",
    "\n",
    "plt.plot(range(len(train_acc)), train_acc, label=\"train accuracy\")\n",
    "plt.plot(range(len(valid_acc)), valid_acc, label=\"valid accuracy\")\n",
    "plt.legend()\n",
    "plt.title(\"Accuracy\")\n",
    "plt.show()"
   ]
  },
  {
   "cell_type": "code",
   "execution_count": null,
   "metadata": {},
   "outputs": [],
   "source": []
  }
 ],
 "metadata": {
  "kernelspec": {
   "display_name": "Python 3",
   "language": "python",
   "name": "python3"
  },
  "language_info": {
   "codemirror_mode": {
    "name": "ipython",
    "version": 3
   },
   "file_extension": ".py",
   "mimetype": "text/x-python",
   "name": "python",
   "nbconvert_exporter": "python",
   "pygments_lexer": "ipython3",
   "version": "3.7.3"
  }
 },
 "nbformat": 4,
 "nbformat_minor": 2
}
