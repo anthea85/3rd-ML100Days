{
 "cells": [
  {
   "cell_type": "markdown",
   "metadata": {},
   "source": [
    "## Work\n",
    "1. 請嘗試將 preproc_x 替換成以每筆資料的 min/max 進行標準化至 -1 ~ 1 間，再進行訓練\n",
    "2. 請嘗試將 mlp 疊更深 (e.g 5~10 層)，進行訓練後觀察 learning curve 的走勢\n",
    "3. (optional) 請改用 GPU 進行訓練 (如果你有 GPU 的話)，比較使用 CPU 與 GPU 的訓練速度"
   ]
  },
  {
   "cell_type": "code",
   "execution_count": 1,
   "metadata": {},
   "outputs": [
    {
     "data": {
      "text/plain": [
       "'\\nYour code here (optional)\\n確認硬體資源\\n'"
      ]
     },
     "execution_count": 1,
     "metadata": {},
     "output_type": "execute_result"
    }
   ],
   "source": [
    "## \n",
    "\"\"\"\n",
    "Your code here (optional)\n",
    "確認硬體資源\n",
    "\"\"\""
   ]
  },
  {
   "cell_type": "code",
   "execution_count": 2,
   "metadata": {},
   "outputs": [
    {
     "name": "stderr",
     "output_type": "stream",
     "text": [
      "Using TensorFlow backend.\n"
     ]
    }
   ],
   "source": [
    "import os\n",
    "import keras\n",
    "from keras.datasets import cifar10\n",
    "\n",
    "# 請嘗試設定 GPU：os.environ\n",
    "os.environ[\"CUDA_VISIBLE_DEVICES\"] = \"\""
   ]
  },
  {
   "cell_type": "code",
   "execution_count": 3,
   "metadata": {},
   "outputs": [],
   "source": [
    "train, test = cifar10.load_data()"
   ]
  },
  {
   "cell_type": "code",
   "execution_count": 4,
   "metadata": {},
   "outputs": [],
   "source": [
    "## 資料前處理\n",
    "\"\"\"\n",
    "Your code here\n",
    "\"\"\"\n",
    "def preproc_x(x, flatten=True):\n",
    "    x = x / 255.\n",
    "    if flatten:\n",
    "        x = x.reshape((len(x), -1))\n",
    "    return x\n",
    "\n",
    "def preproc_y(y, num_classes=10):\n",
    "    if y.shape[-1] == 1:\n",
    "        y = keras.utils.to_categorical(y, num_classes)\n",
    "    return y"
   ]
  },
  {
   "cell_type": "code",
   "execution_count": 5,
   "metadata": {},
   "outputs": [],
   "source": [
    "x_train, y_train = train\n",
    "x_test, y_test = test\n",
    "\n",
    "# Preproc the inputs\n",
    "x_train = preproc_x(x_train)\n",
    "x_test = preproc_x(x_test)\n",
    "\n",
    "# Preprc the outputs\n",
    "y_train = preproc_y(y_train)\n",
    "y_test = preproc_y(y_test)"
   ]
  },
  {
   "cell_type": "code",
   "execution_count": 7,
   "metadata": {},
   "outputs": [
    {
     "name": "stdout",
     "output_type": "stream",
     "text": [
      "Model: \"model_1\"\n",
      "_________________________________________________________________\n",
      "Layer (type)                 Output Shape              Param #   \n",
      "=================================================================\n",
      "input_1 (InputLayer)         (None, 3072)              0         \n",
      "_________________________________________________________________\n",
      "hidden_layer1 (Dense)        (None, 512)               1573376   \n",
      "_________________________________________________________________\n",
      "hidden_layer2 (Dense)        (None, 256)               131328    \n",
      "_________________________________________________________________\n",
      "hidden_layer3 (Dense)        (None, 128)               32896     \n",
      "_________________________________________________________________\n",
      "output (Dense)               (None, 10)                1290      \n",
      "=================================================================\n",
      "Total params: 1,738,890\n",
      "Trainable params: 1,738,890\n",
      "Non-trainable params: 0\n",
      "_________________________________________________________________\n"
     ]
    }
   ],
   "source": [
    "\"\"\"Code Here\n",
    "建立你的神經網路\n",
    "\"\"\"\n",
    "def build_mlp(input_shape, output_units=10, num_neurons=[512, 256, 128]):\n",
    "    input_layer = keras.layers.Input(input_shape)\n",
    "    \n",
    "    for i, n_units in enumerate(num_neurons):\n",
    "        if i == 0:\n",
    "            x = keras.layers.Dense(units=n_units, activation=\"relu\", name=\"hidden_layer\"+str(i+1))(input_layer)\n",
    "        else:\n",
    "            x = keras.layers.Dense(units=n_units, activation=\"relu\", name=\"hidden_layer\"+str(i+1))(x)\n",
    "    \n",
    "    out = keras.layers.Dense(units=output_units, activation=\"softmax\", name=\"output\")(x)\n",
    "    \n",
    "    model = keras.models.Model(inputs=[input_layer], outputs=[out])\n",
    "    return model\n",
    "model = build_mlp(input_shape=x_train.shape[1:])\n",
    "model.summary()"
   ]
  },
  {
   "cell_type": "code",
   "execution_count": 8,
   "metadata": {},
   "outputs": [],
   "source": [
    "## 超參數設定\n",
    "LEARNING_RATE = 0.001\n",
    "EPOCHS = 100\n",
    "BATCH_SIZE = 256"
   ]
  },
  {
   "cell_type": "code",
   "execution_count": 9,
   "metadata": {},
   "outputs": [],
   "source": [
    "optimizer = keras.optimizers.Adam(lr=LEARNING_RATE)\n",
    "model.compile(loss=\"categorical_crossentropy\", metrics=[\"accuracy\"], optimizer=optimizer)"
   ]
  },
  {
   "cell_type": "code",
   "execution_count": 10,
   "metadata": {
    "scrolled": true
   },
   "outputs": [
    {
     "name": "stdout",
     "output_type": "stream",
     "text": [
      "Train on 50000 samples, validate on 10000 samples\n",
      "Epoch 1/100\n",
      "50000/50000 [==============================] - 19s 386us/step - loss: 1.9078 - accuracy: 0.3120 - val_loss: 1.7774 - val_accuracy: 0.3562\n",
      "Epoch 2/100\n",
      "50000/50000 [==============================] - 17s 335us/step - loss: 1.7002 - accuracy: 0.3898 - val_loss: 1.7173 - val_accuracy: 0.3933\n",
      "Epoch 3/100\n",
      "50000/50000 [==============================] - 17s 336us/step - loss: 1.6161 - accuracy: 0.4264 - val_loss: 1.5827 - val_accuracy: 0.4366\n",
      "Epoch 4/100\n",
      "50000/50000 [==============================] - 17s 335us/step - loss: 1.5517 - accuracy: 0.4480 - val_loss: 1.5519 - val_accuracy: 0.4448\n",
      "Epoch 5/100\n",
      "50000/50000 [==============================] - 17s 337us/step - loss: 1.5099 - accuracy: 0.4611 - val_loss: 1.4912 - val_accuracy: 0.4716\n",
      "Epoch 6/100\n",
      "50000/50000 [==============================] - 17s 336us/step - loss: 1.4563 - accuracy: 0.4797 - val_loss: 1.4591 - val_accuracy: 0.4831\n",
      "Epoch 7/100\n",
      "50000/50000 [==============================] - 17s 340us/step - loss: 1.4308 - accuracy: 0.4915 - val_loss: 1.4617 - val_accuracy: 0.4771\n",
      "Epoch 8/100\n",
      "50000/50000 [==============================] - 17s 341us/step - loss: 1.4113 - accuracy: 0.4971 - val_loss: 1.4403 - val_accuracy: 0.4936\n",
      "Epoch 9/100\n",
      "50000/50000 [==============================] - 17s 339us/step - loss: 1.3650 - accuracy: 0.5146 - val_loss: 1.4159 - val_accuracy: 0.4984\n",
      "Epoch 10/100\n",
      "50000/50000 [==============================] - 17s 346us/step - loss: 1.3435 - accuracy: 0.5203 - val_loss: 1.3985 - val_accuracy: 0.5039\n",
      "Epoch 11/100\n",
      "50000/50000 [==============================] - 17s 339us/step - loss: 1.3120 - accuracy: 0.5300 - val_loss: 1.4258 - val_accuracy: 0.4975\n",
      "Epoch 12/100\n",
      "50000/50000 [==============================] - 17s 342us/step - loss: 1.2874 - accuracy: 0.5390 - val_loss: 1.4620 - val_accuracy: 0.4791\n",
      "Epoch 13/100\n",
      "50000/50000 [==============================] - 18s 359us/step - loss: 1.2610 - accuracy: 0.5526 - val_loss: 1.3881 - val_accuracy: 0.5123\n",
      "Epoch 14/100\n",
      "50000/50000 [==============================] - 17s 349us/step - loss: 1.2362 - accuracy: 0.5611 - val_loss: 1.4135 - val_accuracy: 0.5068\n",
      "Epoch 15/100\n",
      "50000/50000 [==============================] - 17s 341us/step - loss: 1.2159 - accuracy: 0.5670 - val_loss: 1.4030 - val_accuracy: 0.5080\n",
      "Epoch 16/100\n",
      "50000/50000 [==============================] - 17s 339us/step - loss: 1.2019 - accuracy: 0.5708 - val_loss: 1.4134 - val_accuracy: 0.4951\n",
      "Epoch 17/100\n",
      "50000/50000 [==============================] - 17s 347us/step - loss: 1.1780 - accuracy: 0.5794 - val_loss: 1.3931 - val_accuracy: 0.5037\n",
      "Epoch 18/100\n",
      "50000/50000 [==============================] - 17s 343us/step - loss: 1.1536 - accuracy: 0.5898 - val_loss: 1.3906 - val_accuracy: 0.5120\n",
      "Epoch 19/100\n",
      "50000/50000 [==============================] - 17s 343us/step - loss: 1.1342 - accuracy: 0.5972 - val_loss: 1.3667 - val_accuracy: 0.5217\n",
      "Epoch 20/100\n",
      "50000/50000 [==============================] - 17s 342us/step - loss: 1.1184 - accuracy: 0.6006 - val_loss: 1.3605 - val_accuracy: 0.5293\n",
      "Epoch 21/100\n",
      "50000/50000 [==============================] - 17s 349us/step - loss: 1.0886 - accuracy: 0.6118 - val_loss: 1.4573 - val_accuracy: 0.5015\n",
      "Epoch 22/100\n",
      "50000/50000 [==============================] - 17s 341us/step - loss: 1.0735 - accuracy: 0.6190 - val_loss: 1.3500 - val_accuracy: 0.5233\n",
      "Epoch 23/100\n",
      "50000/50000 [==============================] - 17s 346us/step - loss: 1.0572 - accuracy: 0.6239 - val_loss: 1.3820 - val_accuracy: 0.5281\n",
      "Epoch 24/100\n",
      "50000/50000 [==============================] - 17s 344us/step - loss: 1.0387 - accuracy: 0.6307 - val_loss: 1.4088 - val_accuracy: 0.5180\n",
      "Epoch 25/100\n",
      "50000/50000 [==============================] - 17s 344us/step - loss: 1.0112 - accuracy: 0.6369 - val_loss: 1.3840 - val_accuracy: 0.5267\n",
      "Epoch 26/100\n",
      "50000/50000 [==============================] - 17s 341us/step - loss: 0.9927 - accuracy: 0.6475 - val_loss: 1.4097 - val_accuracy: 0.5254\n",
      "Epoch 27/100\n",
      "50000/50000 [==============================] - 17s 343us/step - loss: 0.9810 - accuracy: 0.6510 - val_loss: 1.4022 - val_accuracy: 0.5255\n",
      "Epoch 28/100\n",
      "50000/50000 [==============================] - 17s 340us/step - loss: 0.9595 - accuracy: 0.6596 - val_loss: 1.4288 - val_accuracy: 0.5170\n",
      "Epoch 29/100\n",
      "50000/50000 [==============================] - 17s 346us/step - loss: 0.9352 - accuracy: 0.6671 - val_loss: 1.4595 - val_accuracy: 0.5161\n",
      "Epoch 30/100\n",
      "50000/50000 [==============================] - 17s 341us/step - loss: 0.9182 - accuracy: 0.6714 - val_loss: 1.4277 - val_accuracy: 0.5258\n",
      "Epoch 31/100\n",
      "50000/50000 [==============================] - 17s 343us/step - loss: 0.8972 - accuracy: 0.6797 - val_loss: 1.4712 - val_accuracy: 0.5211\n",
      "Epoch 32/100\n",
      "50000/50000 [==============================] - 17s 341us/step - loss: 0.8844 - accuracy: 0.6837 - val_loss: 1.5053 - val_accuracy: 0.5173\n",
      "Epoch 33/100\n",
      "50000/50000 [==============================] - 17s 345us/step - loss: 0.8652 - accuracy: 0.6925 - val_loss: 1.4929 - val_accuracy: 0.5187\n",
      "Epoch 34/100\n",
      "50000/50000 [==============================] - 17s 346us/step - loss: 0.8464 - accuracy: 0.6968 - val_loss: 1.5079 - val_accuracy: 0.5218\n",
      "Epoch 35/100\n",
      "50000/50000 [==============================] - 17s 348us/step - loss: 0.8243 - accuracy: 0.7064 - val_loss: 1.4851 - val_accuracy: 0.5254\n",
      "Epoch 36/100\n",
      "50000/50000 [==============================] - 17s 343us/step - loss: 0.8188 - accuracy: 0.7071 - val_loss: 1.5506 - val_accuracy: 0.5211\n",
      "Epoch 37/100\n",
      "50000/50000 [==============================] - 17s 345us/step - loss: 0.7998 - accuracy: 0.7157 - val_loss: 1.5886 - val_accuracy: 0.5250\n",
      "Epoch 38/100\n",
      "50000/50000 [==============================] - 17s 348us/step - loss: 0.7951 - accuracy: 0.7168 - val_loss: 1.5829 - val_accuracy: 0.5208\n",
      "Epoch 39/100\n",
      "50000/50000 [==============================] - 17s 343us/step - loss: 0.7628 - accuracy: 0.7263 - val_loss: 1.6003 - val_accuracy: 0.5263\n",
      "Epoch 40/100\n",
      "50000/50000 [==============================] - 17s 342us/step - loss: 0.7504 - accuracy: 0.7304 - val_loss: 1.6264 - val_accuracy: 0.5208\n",
      "Epoch 41/100\n",
      "50000/50000 [==============================] - 17s 345us/step - loss: 0.7284 - accuracy: 0.7391 - val_loss: 1.6227 - val_accuracy: 0.5227\n",
      "Epoch 42/100\n",
      "50000/50000 [==============================] - 17s 346us/step - loss: 0.7075 - accuracy: 0.7475 - val_loss: 1.6745 - val_accuracy: 0.5136\n",
      "Epoch 43/100\n",
      "50000/50000 [==============================] - 17s 344us/step - loss: 0.7012 - accuracy: 0.7496 - val_loss: 1.6725 - val_accuracy: 0.5213\n",
      "Epoch 44/100\n",
      "50000/50000 [==============================] - 17s 344us/step - loss: 0.6999 - accuracy: 0.7511 - val_loss: 1.7007 - val_accuracy: 0.5196\n",
      "Epoch 45/100\n",
      "50000/50000 [==============================] - 17s 346us/step - loss: 0.6819 - accuracy: 0.7564 - val_loss: 1.6949 - val_accuracy: 0.5121\n",
      "Epoch 46/100\n",
      "50000/50000 [==============================] - 18s 352us/step - loss: 0.6599 - accuracy: 0.7641 - val_loss: 1.7694 - val_accuracy: 0.5173\n",
      "Epoch 47/100\n",
      "50000/50000 [==============================] - 18s 358us/step - loss: 0.6499 - accuracy: 0.7681 - val_loss: 1.7652 - val_accuracy: 0.5149\n",
      "Epoch 48/100\n",
      "50000/50000 [==============================] - 18s 366us/step - loss: 0.6287 - accuracy: 0.7774 - val_loss: 1.8265 - val_accuracy: 0.5192\n",
      "Epoch 49/100\n",
      "50000/50000 [==============================] - 18s 367us/step - loss: 0.6188 - accuracy: 0.7783 - val_loss: 1.8274 - val_accuracy: 0.5146\n",
      "Epoch 50/100\n",
      "50000/50000 [==============================] - 17s 347us/step - loss: 0.6138 - accuracy: 0.7810 - val_loss: 1.8061 - val_accuracy: 0.5147\n",
      "Epoch 51/100\n",
      "50000/50000 [==============================] - 18s 355us/step - loss: 0.6127 - accuracy: 0.7803 - val_loss: 1.9088 - val_accuracy: 0.5082\n",
      "Epoch 52/100\n",
      "50000/50000 [==============================] - 18s 368us/step - loss: 0.5837 - accuracy: 0.7910 - val_loss: 1.9597 - val_accuracy: 0.5074\n",
      "Epoch 53/100\n",
      "50000/50000 [==============================] - 18s 359us/step - loss: 0.5661 - accuracy: 0.7984 - val_loss: 1.9331 - val_accuracy: 0.5089\n",
      "Epoch 54/100\n",
      "50000/50000 [==============================] - 18s 361us/step - loss: 0.5632 - accuracy: 0.7987 - val_loss: 1.9660 - val_accuracy: 0.5138\n"
     ]
    },
    {
     "name": "stdout",
     "output_type": "stream",
     "text": [
      "Epoch 55/100\n",
      "50000/50000 [==============================] - 17s 331us/step - loss: 0.5475 - accuracy: 0.8044 - val_loss: 1.9570 - val_accuracy: 0.4960\n",
      "Epoch 56/100\n",
      "50000/50000 [==============================] - 16s 330us/step - loss: 0.5533 - accuracy: 0.8003 - val_loss: 2.0182 - val_accuracy: 0.5115\n",
      "Epoch 57/100\n",
      "50000/50000 [==============================] - 17s 340us/step - loss: 0.5431 - accuracy: 0.8048 - val_loss: 1.9829 - val_accuracy: 0.5094\n",
      "Epoch 58/100\n",
      "50000/50000 [==============================] - 17s 337us/step - loss: 0.5194 - accuracy: 0.8132 - val_loss: 2.0663 - val_accuracy: 0.5156\n",
      "Epoch 59/100\n",
      "50000/50000 [==============================] - 18s 352us/step - loss: 0.5172 - accuracy: 0.8156 - val_loss: 2.1801 - val_accuracy: 0.5084\n",
      "Epoch 60/100\n",
      "50000/50000 [==============================] - 18s 354us/step - loss: 0.4947 - accuracy: 0.8236 - val_loss: 2.1273 - val_accuracy: 0.5131\n",
      "Epoch 61/100\n",
      "50000/50000 [==============================] - 19s 372us/step - loss: 0.4920 - accuracy: 0.8243 - val_loss: 2.2148 - val_accuracy: 0.5007\n",
      "Epoch 62/100\n",
      "50000/50000 [==============================] - 17s 348us/step - loss: 0.4846 - accuracy: 0.8262 - val_loss: 2.2054 - val_accuracy: 0.5091\n",
      "Epoch 63/100\n",
      "50000/50000 [==============================] - 17s 343us/step - loss: 0.4831 - accuracy: 0.8270 - val_loss: 2.2141 - val_accuracy: 0.5068\n",
      "Epoch 64/100\n",
      "50000/50000 [==============================] - 18s 350us/step - loss: 0.4662 - accuracy: 0.8333 - val_loss: 2.3098 - val_accuracy: 0.5154\n",
      "Epoch 65/100\n",
      "50000/50000 [==============================] - 17s 342us/step - loss: 0.4546 - accuracy: 0.8377 - val_loss: 2.2975 - val_accuracy: 0.5082\n",
      "Epoch 66/100\n",
      "50000/50000 [==============================] - 18s 354us/step - loss: 0.4391 - accuracy: 0.8436 - val_loss: 2.3435 - val_accuracy: 0.5023\n",
      "Epoch 67/100\n",
      "50000/50000 [==============================] - 17s 341us/step - loss: 0.4245 - accuracy: 0.8500 - val_loss: 2.3878 - val_accuracy: 0.5027\n",
      "Epoch 68/100\n",
      "50000/50000 [==============================] - 17s 342us/step - loss: 0.4403 - accuracy: 0.8418 - val_loss: 2.3638 - val_accuracy: 0.5015\n",
      "Epoch 69/100\n",
      "50000/50000 [==============================] - 17s 346us/step - loss: 0.4232 - accuracy: 0.8476 - val_loss: 2.4803 - val_accuracy: 0.5077\n",
      "Epoch 70/100\n",
      "50000/50000 [==============================] - 17s 341us/step - loss: 0.4308 - accuracy: 0.8458 - val_loss: 2.4534 - val_accuracy: 0.5012\n",
      "Epoch 71/100\n",
      "50000/50000 [==============================] - 17s 341us/step - loss: 0.4081 - accuracy: 0.8543 - val_loss: 2.5253 - val_accuracy: 0.5059\n",
      "Epoch 72/100\n",
      "50000/50000 [==============================] - 17s 340us/step - loss: 0.4160 - accuracy: 0.8503 - val_loss: 2.5712 - val_accuracy: 0.4978\n",
      "Epoch 73/100\n",
      "50000/50000 [==============================] - 17s 343us/step - loss: 0.3997 - accuracy: 0.8572 - val_loss: 2.5471 - val_accuracy: 0.5056\n",
      "Epoch 74/100\n",
      "50000/50000 [==============================] - 17s 344us/step - loss: 0.4046 - accuracy: 0.8548 - val_loss: 2.6080 - val_accuracy: 0.5001\n",
      "Epoch 75/100\n",
      "50000/50000 [==============================] - 17s 348us/step - loss: 0.3824 - accuracy: 0.8622 - val_loss: 2.6545 - val_accuracy: 0.4978\n",
      "Epoch 76/100\n",
      "50000/50000 [==============================] - 17s 342us/step - loss: 0.3764 - accuracy: 0.8662 - val_loss: 2.6235 - val_accuracy: 0.5082\n",
      "Epoch 77/100\n",
      "50000/50000 [==============================] - 17s 346us/step - loss: 0.3670 - accuracy: 0.8680 - val_loss: 2.6250 - val_accuracy: 0.5063\n",
      "Epoch 78/100\n",
      "50000/50000 [==============================] - 17s 344us/step - loss: 0.3727 - accuracy: 0.8667 - val_loss: 2.7963 - val_accuracy: 0.5027\n",
      "Epoch 79/100\n",
      "50000/50000 [==============================] - 17s 341us/step - loss: 0.3609 - accuracy: 0.8715 - val_loss: 2.7237 - val_accuracy: 0.5084\n",
      "Epoch 80/100\n",
      "50000/50000 [==============================] - 17s 341us/step - loss: 0.3604 - accuracy: 0.8713 - val_loss: 2.7463 - val_accuracy: 0.5023\n",
      "Epoch 81/100\n",
      "50000/50000 [==============================] - 17s 342us/step - loss: 0.3507 - accuracy: 0.8742 - val_loss: 2.7815 - val_accuracy: 0.5063\n",
      "Epoch 82/100\n",
      "50000/50000 [==============================] - 17s 350us/step - loss: 0.3237 - accuracy: 0.8847 - val_loss: 2.8412 - val_accuracy: 0.5049\n",
      "Epoch 83/100\n",
      "50000/50000 [==============================] - 18s 364us/step - loss: 0.3510 - accuracy: 0.8748 - val_loss: 2.8128 - val_accuracy: 0.5076\n",
      "Epoch 84/100\n",
      "50000/50000 [==============================] - 18s 358us/step - loss: 0.3566 - accuracy: 0.8701 - val_loss: 2.9475 - val_accuracy: 0.4981\n",
      "Epoch 85/100\n",
      "50000/50000 [==============================] - 17s 347us/step - loss: 0.3275 - accuracy: 0.8822 - val_loss: 2.9499 - val_accuracy: 0.4998\n",
      "Epoch 86/100\n",
      "50000/50000 [==============================] - 17s 344us/step - loss: 0.3290 - accuracy: 0.8823 - val_loss: 3.0049 - val_accuracy: 0.5048\n",
      "Epoch 87/100\n",
      "50000/50000 [==============================] - 17s 344us/step - loss: 0.3230 - accuracy: 0.8839 - val_loss: 3.0502 - val_accuracy: 0.5015\n",
      "Epoch 88/100\n",
      "50000/50000 [==============================] - 18s 350us/step - loss: 0.3267 - accuracy: 0.8810 - val_loss: 3.0628 - val_accuracy: 0.5033\n",
      "Epoch 89/100\n",
      "50000/50000 [==============================] - 17s 348us/step - loss: 0.3150 - accuracy: 0.8860 - val_loss: 3.0609 - val_accuracy: 0.4959\n",
      "Epoch 90/100\n",
      "50000/50000 [==============================] - 18s 356us/step - loss: 0.2839 - accuracy: 0.8984 - val_loss: 3.1075 - val_accuracy: 0.5040\n",
      "Epoch 91/100\n",
      "50000/50000 [==============================] - 18s 367us/step - loss: 0.2927 - accuracy: 0.8955 - val_loss: 3.0867 - val_accuracy: 0.5018\n",
      "Epoch 92/100\n",
      "50000/50000 [==============================] - 18s 367us/step - loss: 0.2955 - accuracy: 0.8936 - val_loss: 3.0798 - val_accuracy: 0.4990\n",
      "Epoch 93/100\n",
      "50000/50000 [==============================] - 19s 370us/step - loss: 0.3177 - accuracy: 0.8848 - val_loss: 3.1673 - val_accuracy: 0.4955\n",
      "Epoch 94/100\n",
      "50000/50000 [==============================] - 18s 362us/step - loss: 0.2946 - accuracy: 0.8950 - val_loss: 3.1896 - val_accuracy: 0.4944\n",
      "Epoch 95/100\n",
      "50000/50000 [==============================] - 18s 363us/step - loss: 0.3022 - accuracy: 0.8909 - val_loss: 3.2167 - val_accuracy: 0.5014\n",
      "Epoch 96/100\n",
      "50000/50000 [==============================] - 18s 351us/step - loss: 0.2746 - accuracy: 0.9008 - val_loss: 3.3345 - val_accuracy: 0.5027\n",
      "Epoch 97/100\n",
      "50000/50000 [==============================] - 17s 342us/step - loss: 0.2576 - accuracy: 0.9074 - val_loss: 3.3874 - val_accuracy: 0.4940\n",
      "Epoch 98/100\n",
      "50000/50000 [==============================] - 17s 344us/step - loss: 0.2659 - accuracy: 0.9037 - val_loss: 3.3690 - val_accuracy: 0.5063\n",
      "Epoch 99/100\n",
      "50000/50000 [==============================] - 17s 345us/step - loss: 0.2586 - accuracy: 0.9082 - val_loss: 3.3719 - val_accuracy: 0.5108\n",
      "Epoch 100/100\n",
      "50000/50000 [==============================] - 17s 345us/step - loss: 0.2868 - accuracy: 0.8969 - val_loss: 3.4481 - val_accuracy: 0.5012\n"
     ]
    },
    {
     "data": {
      "text/plain": [
       "<keras.callbacks.callbacks.History at 0xf1db9710b8>"
      ]
     },
     "execution_count": 10,
     "metadata": {},
     "output_type": "execute_result"
    }
   ],
   "source": [
    "model.fit(x_train, y_train, \n",
    "          epochs=EPOCHS, \n",
    "          batch_size=BATCH_SIZE, \n",
    "          validation_data=(x_test, y_test), \n",
    "          shuffle=True)"
   ]
  },
  {
   "cell_type": "code",
   "execution_count": 12,
   "metadata": {},
   "outputs": [
    {
     "data": {
      "image/png": "[encoded data removed]",
      "text/plain": [
       "<Figure size 432x288 with 1 Axes>"
      ]
     },
     "metadata": {
      "needs_background": "light"
     },
     "output_type": "display_data"
    },
    {
     "data": {
      "image/png": "[encoded data removed]",
      "text/plain": [
       "<Figure size 432x288 with 1 Axes>"
      ]
     },
     "metadata": {
      "needs_background": "light"
     },
     "output_type": "display_data"
    }
   ],
   "source": [
    "import matplotlib.pyplot as plt\n",
    "\n",
    "\n",
    "train_loss = model.history.history[\"loss\"]\n",
    "valid_loss = model.history.history[\"val_loss\"]\n",
    "\n",
    "train_acc = model.history.history[\"accuracy\"]\n",
    "valid_acc = model.history.history[\"val_accuracy\"]\n",
    "\n",
    "plt.plot(range(len(train_loss)), train_loss, label=\"train loss\")\n",
    "plt.plot(range(len(valid_loss)), valid_loss, label=\"valid loss\")\n",
    "plt.legend()\n",
    "plt.title(\"Loss\")\n",
    "plt.show()\n",
    "\n",
    "plt.plot(range(len(train_acc)), train_acc, label=\"train accuracy\")\n",
    "plt.plot(range(len(valid_acc)), valid_acc, label=\"valid accuracy\")\n",
    "plt.legend()\n",
    "plt.title(\"Accuracy\")\n",
    "plt.show()"
   ]
  },
  {
   "cell_type": "code",
   "execution_count": null,
   "metadata": {},
   "outputs": [],
   "source": []
  }
 ],
 "metadata": {
  "kernelspec": {
   "display_name": "Python 3",
   "language": "python",
   "name": "python3"
  },
  "language_info": {
   "codemirror_mode": {
    "name": "ipython",
    "version": 3
   },
   "file_extension": ".py",
   "mimetype": "text/x-python",
   "name": "python",
   "nbconvert_exporter": "python",
   "pygments_lexer": "ipython3",
   "version": "3.7.3"
  }
 },
 "nbformat": 4,
 "nbformat_minor": 2
}
