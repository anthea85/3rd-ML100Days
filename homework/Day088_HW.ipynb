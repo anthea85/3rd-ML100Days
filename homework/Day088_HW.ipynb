{
 "cells": [
  {
   "cell_type": "markdown",
   "metadata": {},
   "source": [
    "## Work\n",
    "1. 請嘗試寫一個 callback 用來記錄各類別在訓練過程中，對驗證集的 True Positive 與 True Negative"
   ]
  },
  {
   "cell_type": "code",
   "execution_count": 1,
   "metadata": {},
   "outputs": [
    {
     "name": "stderr",
     "output_type": "stream",
     "text": [
      "Using TensorFlow backend.\n"
     ]
    }
   ],
   "source": [
    "import os\n",
    "import keras\n",
    "\n",
    "# Disable GPU\n",
    "os.environ[\"CUDA_VISIBLE_DEVICES\"] = \"\""
   ]
  },
  {
   "cell_type": "code",
   "execution_count": 2,
   "metadata": {},
   "outputs": [],
   "source": [
    "train, test = keras.datasets.cifar10.load_data()"
   ]
  },
  {
   "cell_type": "code",
   "execution_count": 3,
   "metadata": {},
   "outputs": [],
   "source": [
    "## 資料前處理\n",
    "def preproc_x(x, flatten=True):\n",
    "    x = x / 255.\n",
    "    if flatten:\n",
    "        x = x.reshape((len(x), -1))\n",
    "    return x\n",
    "\n",
    "def preproc_y(y, num_classes=10):\n",
    "    if y.shape[-1] == 1:\n",
    "        y = keras.utils.to_categorical(y, num_classes)\n",
    "    return y    "
   ]
  },
  {
   "cell_type": "code",
   "execution_count": 4,
   "metadata": {},
   "outputs": [],
   "source": [
    "x_train, y_train = train\n",
    "x_test, y_test = test\n",
    "\n",
    "# Preproc the inputs\n",
    "x_train = preproc_x(x_train)\n",
    "x_test = preproc_x(x_test)\n",
    "\n",
    "# Preprc the outputs\n",
    "y_train = preproc_y(y_train)\n",
    "y_test = preproc_y(y_test)"
   ]
  },
  {
   "cell_type": "code",
   "execution_count": 5,
   "metadata": {},
   "outputs": [],
   "source": [
    "from keras.layers import BatchNormalization\n",
    "def build_mlp(input_shape, output_units=10, num_neurons=[256, 256, 256]):\n",
    "    \"\"\"Code Here\n",
    "    建立你的神經網路\n",
    "    \"\"\"\n",
    "    input_layer = keras.layers.Input(input_shape)\n",
    "    \n",
    "    for i, n_units in enumerate(num_neurons):\n",
    "        if i == 0:\n",
    "            x = keras.layers.Dense(units=n_units, \n",
    "                                   activation=\"relu\", \n",
    "                                   name=\"hidden_layer\"+str(i+1))(input_layer)\n",
    "            x = BatchNormalization()(x)\n",
    "        else:\n",
    "            x = keras.layers.Dense(units=n_units, \n",
    "                                   activation=\"relu\", \n",
    "                                   name=\"hidden_layer\"+str(i+1))(x)\n",
    "            x = BatchNormalization()(x)\n",
    "    \n",
    "    out = keras.layers.Dense(units=output_units, activation=\"softmax\", name=\"output\")(x)\n",
    "    \n",
    "    model = keras.models.Model(inputs=[input_layer], outputs=[out])\n",
    "    return model"
   ]
  },
  {
   "cell_type": "code",
   "execution_count": 6,
   "metadata": {},
   "outputs": [],
   "source": [
    "## 超參數設定\n",
    "LEARNING_RATE = 1e-3\n",
    "EPOCHS = 25\n",
    "BATCH_SIZE = 1024\n",
    "MOMENTUM = 0.95"
   ]
  },
  {
   "cell_type": "code",
   "execution_count": 13,
   "metadata": {},
   "outputs": [],
   "source": [
    "# 載入 Callbacks\n",
    "from keras.callbacks import Callback\n",
    "from sklearn.metrics import f1_score\n",
    "# Record_fp_tp\n",
    "class Record_tp_tn(Callback):\n",
    "    \"\"\"Code Here\n",
    "    撰寫一個紀錄 ture positive 與 true negative 數量的 callbacks    \n",
    "    \"\"\"\n",
    "    def on_train_begin(self, epoch, logs = {}):\n",
    "        logs = logs or {}\n",
    "        record_items = [\"val_auc\", \"val_f1sc\", \"val_fp\", \"val_fn\", \"val_tp\", \"val_tn\"]\n",
    "        for i in record_items:\n",
    "            if i not in self.params['metrics']:\n",
    "                self.params['metrics'].append(i)\n",
    "    \n",
    "    def on_epoch_end(self, epoch, logs = {}, thres=0.5):\n",
    "        logs = logs or {}\n",
    "        y_true = self.validation_data[1].argmax(axis = 1)\n",
    "        y_pred = self.model.predict(self.validation_data[0])\n",
    "        y_pred = (y_pred[:, 1] >= thres) * 1\n",
    "        \n",
    "        logs[\"val_tp\"] = f1_score(y_true = y_true, y_pred = y_pred, average=\"weighted\")\n",
    "        logs[\"val_tn\"] = f1_score(y_true = y_true, y_pred = y_pred, average=\"weighted\")\n",
    "rec_tptn = Record_tp_tn()"
   ]
  },
  {
   "cell_type": "code",
   "execution_count": 14,
   "metadata": {
    "scrolled": true
   },
   "outputs": [
    {
     "name": "stdout",
     "output_type": "stream",
     "text": [
      "Model: \"model_5\"\n",
      "_________________________________________________________________\n",
      "Layer (type)                 Output Shape              Param #   \n",
      "=================================================================\n",
      "input_5 (InputLayer)         (None, 3072)              0         \n",
      "_________________________________________________________________\n",
      "hidden_layer1 (Dense)        (None, 256)               786688    \n",
      "_________________________________________________________________\n",
      "batch_normalization_13 (Batc (None, 256)               1024      \n",
      "_________________________________________________________________\n",
      "hidden_layer2 (Dense)        (None, 256)               65792     \n",
      "_________________________________________________________________\n",
      "batch_normalization_14 (Batc (None, 256)               1024      \n",
      "_________________________________________________________________\n",
      "hidden_layer3 (Dense)        (None, 256)               65792     \n",
      "_________________________________________________________________\n",
      "batch_normalization_15 (Batc (None, 256)               1024      \n",
      "_________________________________________________________________\n",
      "output (Dense)               (None, 10)                2570      \n",
      "=================================================================\n",
      "Total params: 923,914\n",
      "Trainable params: 922,378\n",
      "Non-trainable params: 1,536\n",
      "_________________________________________________________________\n",
      "Train on 50000 samples, validate on 10000 samples\n",
      "Epoch 1/25\n",
      "50000/50000 [==============================] - 16s 317us/step - loss: 2.2985 - accuracy: 0.2594 - val_loss: 2.1279 - val_accuracy: 0.2368\n"
     ]
    },
    {
     "name": "stderr",
     "output_type": "stream",
     "text": [
      "C:\\Users\\antheayangyc\\Anaconda3\\lib\\site-packages\\sklearn\\metrics\\classification.py:1437: UndefinedMetricWarning: F-score is ill-defined and being set to 0.0 in labels with no predicted samples.\n",
      "  'precision', 'predicted', average, warn_for)\n"
     ]
    },
    {
     "name": "stdout",
     "output_type": "stream",
     "text": [
      "Epoch 2/25\n",
      "50000/50000 [==============================] - 8s 157us/step - loss: 1.7775 - accuracy: 0.3833 - val_loss: 1.9661 - val_accuracy: 0.3279\n",
      "Epoch 3/25\n",
      "50000/50000 [==============================] - 7s 146us/step - loss: 1.6425 - accuracy: 0.4261 - val_loss: 1.8172 - val_accuracy: 0.3867\n",
      "Epoch 4/25\n",
      "50000/50000 [==============================] - 7s 147us/step - loss: 1.5645 - accuracy: 0.4529 - val_loss: 1.7131 - val_accuracy: 0.4079\n",
      "Epoch 5/25\n",
      "50000/50000 [==============================] - 8s 156us/step - loss: 1.5112 - accuracy: 0.4714 - val_loss: 1.6374 - val_accuracy: 0.4353\n",
      "Epoch 6/25\n",
      "50000/50000 [==============================] - 7s 150us/step - loss: 1.4650 - accuracy: 0.4883 - val_loss: 1.5856 - val_accuracy: 0.4417\n",
      "Epoch 7/25\n",
      "50000/50000 [==============================] - 7s 148us/step - loss: 1.4251 - accuracy: 0.5018 - val_loss: 1.5579 - val_accuracy: 0.4541\n",
      "Epoch 8/25\n",
      "50000/50000 [==============================] - 7s 146us/step - loss: 1.3916 - accuracy: 0.5139 - val_loss: 1.5186 - val_accuracy: 0.4623\n",
      "Epoch 9/25\n",
      "50000/50000 [==============================] - 7s 144us/step - loss: 1.3622 - accuracy: 0.5271 - val_loss: 1.4955 - val_accuracy: 0.4707\n",
      "Epoch 10/25\n",
      "50000/50000 [==============================] - 7s 146us/step - loss: 1.3351 - accuracy: 0.5372 - val_loss: 1.5113 - val_accuracy: 0.4629\n",
      "Epoch 11/25\n",
      "50000/50000 [==============================] - 7s 146us/step - loss: 1.3120 - accuracy: 0.5431 - val_loss: 1.4786 - val_accuracy: 0.4751\n",
      "Epoch 12/25\n",
      "50000/50000 [==============================] - 7s 147us/step - loss: 1.2875 - accuracy: 0.5546 - val_loss: 1.4761 - val_accuracy: 0.4755\n",
      "Epoch 13/25\n",
      "50000/50000 [==============================] - 7s 148us/step - loss: 1.2666 - accuracy: 0.5621 - val_loss: 1.4688 - val_accuracy: 0.4787\n",
      "Epoch 14/25\n",
      "50000/50000 [==============================] - 7s 147us/step - loss: 1.2432 - accuracy: 0.5701 - val_loss: 1.4770 - val_accuracy: 0.4740\n",
      "Epoch 15/25\n",
      "50000/50000 [==============================] - 7s 146us/step - loss: 1.2216 - accuracy: 0.5784 - val_loss: 1.4505 - val_accuracy: 0.4861\n",
      "Epoch 16/25\n",
      "50000/50000 [==============================] - 7s 147us/step - loss: 1.2045 - accuracy: 0.5829 - val_loss: 1.4602 - val_accuracy: 0.4861\n",
      "Epoch 17/25\n",
      "50000/50000 [==============================] - 7s 145us/step - loss: 1.1848 - accuracy: 0.5935 - val_loss: 1.4530 - val_accuracy: 0.4837\n",
      "Epoch 18/25\n",
      "50000/50000 [==============================] - 7s 145us/step - loss: 1.1665 - accuracy: 0.5987 - val_loss: 1.4460 - val_accuracy: 0.4883\n",
      "Epoch 19/25\n",
      "50000/50000 [==============================] - 7s 149us/step - loss: 1.1478 - accuracy: 0.6064 - val_loss: 1.4476 - val_accuracy: 0.4891\n",
      "Epoch 20/25\n",
      "50000/50000 [==============================] - 7s 147us/step - loss: 1.1305 - accuracy: 0.6120 - val_loss: 1.4440 - val_accuracy: 0.4921\n",
      "Epoch 21/25\n",
      "50000/50000 [==============================] - 7s 147us/step - loss: 1.1115 - accuracy: 0.6201 - val_loss: 1.4562 - val_accuracy: 0.4841\n",
      "Epoch 22/25\n",
      "50000/50000 [==============================] - 8s 154us/step - loss: 1.0955 - accuracy: 0.6260 - val_loss: 1.4491 - val_accuracy: 0.4914\n",
      "Epoch 23/25\n",
      "50000/50000 [==============================] - 8s 152us/step - loss: 1.0788 - accuracy: 0.6305 - val_loss: 1.4424 - val_accuracy: 0.4942\n",
      "Epoch 24/25\n",
      "50000/50000 [==============================] - 7s 147us/step - loss: 1.0610 - accuracy: 0.6383 - val_loss: 1.4439 - val_accuracy: 0.4924\n",
      "Epoch 25/25\n",
      "50000/50000 [==============================] - 7s 147us/step - loss: 1.0443 - accuracy: 0.6462 - val_loss: 1.4418 - val_accuracy: 0.4979\n"
     ]
    }
   ],
   "source": [
    "model = build_mlp(input_shape=x_train.shape[1:])\n",
    "model.summary()\n",
    "optimizer = keras.optimizers.SGD(lr=LEARNING_RATE, nesterov=True, momentum=MOMENTUM)\n",
    "model.compile(loss=\"categorical_crossentropy\", metrics=[\"accuracy\"], optimizer=optimizer)\n",
    "\n",
    "\"\"\"Code Here\n",
    "將 callbacks 放入模型訓練流程中\n",
    "\"\"\"\n",
    "model.fit(x_train, y_train, \n",
    "          epochs=EPOCHS, \n",
    "          batch_size=BATCH_SIZE, \n",
    "          validation_data=(x_test, y_test), \n",
    "          shuffle=True,\n",
    "          callbacks=[rec_tptn])\n",
    "\n",
    "# Collect results\n",
    "train_loss = model.history.history[\"loss\"]\n",
    "valid_loss = model.history.history[\"val_loss\"]\n",
    "train_acc = model.history.history[\"accuracy\"]\n",
    "valid_acc = model.history.history[\"val_accuracy\"]\n",
    "\n",
    "\"\"\"Code Here\n",
    "將 tp/tn 從訓練完的模型中取出\n",
    "\"\"\"\n",
    "valid_tp = model.history.history['val_tp']\n",
    "valid_tn = model.history.history['val_tn']"
   ]
  },
  {
   "cell_type": "code",
   "execution_count": 15,
   "metadata": {},
   "outputs": [
    {
     "data": {
      "image/png": "[encoded data removed]",
      "text/plain": [
       "<Figure size 432x288 with 1 Axes>"
      ]
     },
     "metadata": {
      "needs_background": "light"
     },
     "output_type": "display_data"
    },
    {
     "data": {
      "image/png": "[encoded data removed]",
      "text/plain": [
       "<Figure size 432x288 with 1 Axes>"
      ]
     },
     "metadata": {
      "needs_background": "light"
     },
     "output_type": "display_data"
    },
    {
     "data": {
      "image/png": "[encoded data removed]",
      "text/plain": [
       "<Figure size 432x288 with 1 Axes>"
      ]
     },
     "metadata": {
      "needs_background": "light"
     },
     "output_type": "display_data"
    }
   ],
   "source": [
    "import matplotlib.pyplot as plt\n",
    "%matplotlib inline\n",
    "\n",
    "plt.plot(range(len(train_loss)), train_loss, label=\"train loss\")\n",
    "plt.plot(range(len(valid_loss)), valid_loss, label=\"valid loss\")\n",
    "plt.legend()\n",
    "plt.title(\"Loss\")\n",
    "plt.show()\n",
    "\n",
    "plt.plot(range(len(train_acc)), train_acc, label=\"train accuracy\")\n",
    "plt.plot(range(len(valid_acc)), valid_acc, label=\"valid accuracy\")\n",
    "plt.legend()\n",
    "plt.title(\"Accuracy\")\n",
    "plt.show()\n",
    "\n",
    "plt.plot(range(len(valid_tp)), valid_tp, label=\"valid tp\", color=\"navy\")\n",
    "plt.plot(range(len(valid_tn)), valid_tn, label=\"valid tn\", color=\"red\")\n",
    "plt.legend()\n",
    "plt.title(\"True positives and True Negatives\")\n",
    "plt.show()\n"
   ]
  },
  {
   "cell_type": "code",
   "execution_count": null,
   "metadata": {},
   "outputs": [],
   "source": []
  }
 ],
 "metadata": {
  "kernelspec": {
   "display_name": "Python 3",
   "language": "python",
   "name": "python3"
  },
  "language_info": {
   "codemirror_mode": {
    "name": "ipython",
    "version": 3
   },
   "file_extension": ".py",
   "mimetype": "text/x-python",
   "name": "python",
   "nbconvert_exporter": "python",
   "pygments_lexer": "ipython3",
   "version": "3.7.3"
  }
 },
 "nbformat": 4,
 "nbformat_minor": 2
}
