{
 "cells": [
  {
   "cell_type": "markdown",
   "metadata": {},
   "source": [
    "## Work\n",
    "1. 請比較使用不同層數以及不同 Dropout rate 對訓練的效果\n",
    "2. 將 optimizer 改成使用 Adam 並加上適當的 dropout rate 檢視結果"
   ]
  },
  {
   "cell_type": "code",
   "execution_count": 1,
   "metadata": {},
   "outputs": [
    {
     "name": "stderr",
     "output_type": "stream",
     "text": [
      "Using TensorFlow backend.\n"
     ]
    }
   ],
   "source": [
    "import os\n",
    "import keras\n",
    "import itertools\n",
    "# Disable GPU\n",
    "os.environ[\"CUDA_VISIBLE_DEVICES\"] = \"\""
   ]
  },
  {
   "cell_type": "code",
   "execution_count": 2,
   "metadata": {},
   "outputs": [],
   "source": [
    "train, test = keras.datasets.cifar10.load_data()"
   ]
  },
  {
   "cell_type": "code",
   "execution_count": 3,
   "metadata": {},
   "outputs": [],
   "source": [
    "## 資料前處理\n",
    "def preproc_x(x, flatten=True):\n",
    "    x = x / 255.\n",
    "    if flatten:\n",
    "        x = x.reshape((len(x), -1))\n",
    "    return x\n",
    "\n",
    "def preproc_y(y, num_classes=10):\n",
    "    if y.shape[-1] == 1:\n",
    "        y = keras.utils.to_categorical(y, num_classes)\n",
    "    return y    "
   ]
  },
  {
   "cell_type": "code",
   "execution_count": 4,
   "metadata": {},
   "outputs": [],
   "source": [
    "x_train, y_train = train\n",
    "x_test, y_test = test\n",
    "\n",
    "# Preproc the inputs\n",
    "x_train = preproc_x(x_train)\n",
    "x_test = preproc_x(x_test)\n",
    "\n",
    "# Preprc the outputs\n",
    "y_train = preproc_y(y_train)\n",
    "y_test = preproc_y(y_test)"
   ]
  },
  {
   "cell_type": "code",
   "execution_count": 5,
   "metadata": {},
   "outputs": [],
   "source": [
    "from keras.layers import Dropout\n",
    "\n",
    "\"\"\"\n",
    "建立神經網路，並加入 dropout layer\n",
    "\"\"\"\n",
    "def build_mlp(input_shape, output_units=10, num_neurons=[512, 256, 128], drp_ratio=0.2):\n",
    "    input_layer = keras.layers.Input(input_shape)\n",
    "    \n",
    "    for i, n_units in enumerate(num_neurons):\n",
    "        if i == 0:\n",
    "            x = keras.layers.Dense(units=n_units, \n",
    "                                   activation=\"relu\", \n",
    "                                   name=\"hidden_layer\"+str(i+1))(input_layer)\n",
    "            x = Dropout(drp_ratio)(x)\n",
    "        else:\n",
    "            x = keras.layers.Dense(units=n_units, \n",
    "                                   activation=\"relu\", \n",
    "                                   name=\"hidden_layer\"+str(i+1))(x)\n",
    "            x = Dropout(drp_ratio)(x)\n",
    "    \n",
    "    out = keras.layers.Dense(units=output_units, activation=\"softmax\", name=\"output\")(x)\n",
    "    \n",
    "    model = keras.models.Model(inputs=[input_layer], outputs=[out])\n",
    "    return model"
   ]
  },
  {
   "cell_type": "code",
   "execution_count": 6,
   "metadata": {},
   "outputs": [],
   "source": [
    "\"\"\"Code Here\n",
    "設定超參數\n",
    "\"\"\"\n",
    "LEARNING_RATE = 1e-3\n",
    "EPOCHS = 50\n",
    "BATCH_SIZE = 256\n",
    "MOMENTUM = 0.95\n",
    "Dropout_EXP = 0.25"
   ]
  },
  {
   "cell_type": "code",
   "execution_count": 9,
   "metadata": {
    "scrolled": true
   },
   "outputs": [
    {
     "name": "stdout",
     "output_type": "stream",
     "text": [
      "Model: \"model_3\"\n",
      "_________________________________________________________________\n",
      "Layer (type)                 Output Shape              Param #   \n",
      "=================================================================\n",
      "input_3 (InputLayer)         (None, 3072)              0         \n",
      "_________________________________________________________________\n",
      "hidden_layer1 (Dense)        (None, 512)               1573376   \n",
      "_________________________________________________________________\n",
      "dropout_7 (Dropout)          (None, 512)               0         \n",
      "_________________________________________________________________\n",
      "hidden_layer2 (Dense)        (None, 256)               131328    \n",
      "_________________________________________________________________\n",
      "dropout_8 (Dropout)          (None, 256)               0         \n",
      "_________________________________________________________________\n",
      "hidden_layer3 (Dense)        (None, 128)               32896     \n",
      "_________________________________________________________________\n",
      "dropout_9 (Dropout)          (None, 128)               0         \n",
      "_________________________________________________________________\n",
      "output (Dense)               (None, 10)                1290      \n",
      "=================================================================\n",
      "Total params: 1,738,890\n",
      "Trainable params: 1,738,890\n",
      "Non-trainable params: 0\n",
      "_________________________________________________________________\n",
      "Train on 50000 samples, validate on 10000 samples\n",
      "Epoch 1/50\n",
      "50000/50000 [==============================] - 276s 6ms/step - loss: 2.1663 - accuracy: 0.1958 - val_loss: 1.9680 - val_accuracy: 0.3142\n",
      "Epoch 2/50\n",
      "50000/50000 [==============================] - 16s 327us/step - loss: 1.9821 - accuracy: 0.2775 - val_loss: 1.8511 - val_accuracy: 0.3550\n",
      "Epoch 3/50\n",
      "50000/50000 [==============================] - 15s 293us/step - loss: 1.9025 - accuracy: 0.3114 - val_loss: 1.7889 - val_accuracy: 0.3682\n",
      "Epoch 4/50\n",
      "50000/50000 [==============================] - 14s 290us/step - loss: 1.8455 - accuracy: 0.3380 - val_loss: 1.7411 - val_accuracy: 0.3873\n",
      "Epoch 5/50\n",
      "50000/50000 [==============================] - 14s 288us/step - loss: 1.8035 - accuracy: 0.3529 - val_loss: 1.6961 - val_accuracy: 0.4012\n",
      "Epoch 6/50\n",
      "50000/50000 [==============================] - 14s 287us/step - loss: 1.7663 - accuracy: 0.3682 - val_loss: 1.6632 - val_accuracy: 0.4113\n",
      "Epoch 7/50\n",
      "50000/50000 [==============================] - 14s 287us/step - loss: 1.7394 - accuracy: 0.3769 - val_loss: 1.6341 - val_accuracy: 0.4216\n",
      "Epoch 8/50\n",
      "50000/50000 [==============================] - 15s 292us/step - loss: 1.7127 - accuracy: 0.3913 - val_loss: 1.6081 - val_accuracy: 0.4321\n",
      "Epoch 9/50\n",
      "50000/50000 [==============================] - 14s 290us/step - loss: 1.6892 - accuracy: 0.3988 - val_loss: 1.5972 - val_accuracy: 0.4383\n",
      "Epoch 10/50\n",
      "50000/50000 [==============================] - 14s 288us/step - loss: 1.6665 - accuracy: 0.4063 - val_loss: 1.5660 - val_accuracy: 0.4474\n",
      "Epoch 11/50\n",
      "50000/50000 [==============================] - 14s 290us/step - loss: 1.6472 - accuracy: 0.4154 - val_loss: 1.5556 - val_accuracy: 0.4515\n",
      "Epoch 12/50\n",
      "50000/50000 [==============================] - 14s 288us/step - loss: 1.6322 - accuracy: 0.4179 - val_loss: 1.5490 - val_accuracy: 0.4475\n",
      "Epoch 13/50\n",
      "50000/50000 [==============================] - 14s 288us/step - loss: 1.6149 - accuracy: 0.4254 - val_loss: 1.5276 - val_accuracy: 0.4596\n",
      "Epoch 14/50\n",
      "50000/50000 [==============================] - 14s 288us/step - loss: 1.6003 - accuracy: 0.4292 - val_loss: 1.5066 - val_accuracy: 0.4674\n",
      "Epoch 15/50\n",
      "50000/50000 [==============================] - 14s 288us/step - loss: 1.5859 - accuracy: 0.4369 - val_loss: 1.4968 - val_accuracy: 0.4680\n",
      "Epoch 16/50\n",
      "50000/50000 [==============================] - 14s 288us/step - loss: 1.5655 - accuracy: 0.4446 - val_loss: 1.4856 - val_accuracy: 0.4697\n",
      "Epoch 17/50\n",
      "50000/50000 [==============================] - 14s 288us/step - loss: 1.5551 - accuracy: 0.4456 - val_loss: 1.4745 - val_accuracy: 0.4743\n",
      "Epoch 18/50\n",
      "50000/50000 [==============================] - 14s 288us/step - loss: 1.5419 - accuracy: 0.4517 - val_loss: 1.4696 - val_accuracy: 0.4768\n",
      "Epoch 19/50\n",
      "50000/50000 [==============================] - 14s 289us/step - loss: 1.5337 - accuracy: 0.4550 - val_loss: 1.4507 - val_accuracy: 0.4853\n",
      "Epoch 20/50\n",
      "50000/50000 [==============================] - 14s 288us/step - loss: 1.5231 - accuracy: 0.4597 - val_loss: 1.4466 - val_accuracy: 0.4851\n",
      "Epoch 21/50\n",
      "50000/50000 [==============================] - 14s 289us/step - loss: 1.5100 - accuracy: 0.4627 - val_loss: 1.4533 - val_accuracy: 0.4806\n",
      "Epoch 22/50\n",
      "50000/50000 [==============================] - 14s 288us/step - loss: 1.5004 - accuracy: 0.4657 - val_loss: 1.4383 - val_accuracy: 0.4933\n",
      "Epoch 23/50\n",
      "50000/50000 [==============================] - 14s 288us/step - loss: 1.4876 - accuracy: 0.4687 - val_loss: 1.4209 - val_accuracy: 0.4927\n",
      "Epoch 24/50\n",
      "50000/50000 [==============================] - 14s 288us/step - loss: 1.4811 - accuracy: 0.4698 - val_loss: 1.4144 - val_accuracy: 0.4986\n",
      "Epoch 25/50\n",
      "50000/50000 [==============================] - 15s 290us/step - loss: 1.4693 - accuracy: 0.4791 - val_loss: 1.4185 - val_accuracy: 0.4940\n",
      "Epoch 26/50\n",
      "50000/50000 [==============================] - 14s 288us/step - loss: 1.4607 - accuracy: 0.4809 - val_loss: 1.4076 - val_accuracy: 0.5004\n",
      "Epoch 27/50\n",
      "50000/50000 [==============================] - 14s 289us/step - loss: 1.4537 - accuracy: 0.4826 - val_loss: 1.4093 - val_accuracy: 0.4903\n",
      "Epoch 28/50\n",
      "50000/50000 [==============================] - 15s 293us/step - loss: 1.4446 - accuracy: 0.4843 - val_loss: 1.3897 - val_accuracy: 0.5064\n",
      "Epoch 29/50\n",
      "50000/50000 [==============================] - 15s 291us/step - loss: 1.4337 - accuracy: 0.4907 - val_loss: 1.3835 - val_accuracy: 0.5085\n",
      "Epoch 30/50\n",
      "50000/50000 [==============================] - 14s 288us/step - loss: 1.4278 - accuracy: 0.4892 - val_loss: 1.3793 - val_accuracy: 0.5102\n",
      "Epoch 31/50\n",
      "50000/50000 [==============================] - 14s 289us/step - loss: 1.4174 - accuracy: 0.4977 - val_loss: 1.3897 - val_accuracy: 0.5048\n",
      "Epoch 32/50\n",
      "50000/50000 [==============================] - 14s 289us/step - loss: 1.4086 - accuracy: 0.4973 - val_loss: 1.3712 - val_accuracy: 0.5117\n",
      "Epoch 33/50\n",
      "50000/50000 [==============================] - 15s 295us/step - loss: 1.4011 - accuracy: 0.4991 - val_loss: 1.3742 - val_accuracy: 0.5085\n",
      "Epoch 34/50\n",
      "50000/50000 [==============================] - 15s 294us/step - loss: 1.3941 - accuracy: 0.5015 - val_loss: 1.3703 - val_accuracy: 0.5067\n",
      "Epoch 35/50\n",
      "50000/50000 [==============================] - 15s 293us/step - loss: 1.3828 - accuracy: 0.5089 - val_loss: 1.3599 - val_accuracy: 0.5162\n",
      "Epoch 36/50\n",
      "50000/50000 [==============================] - 15s 290us/step - loss: 1.3730 - accuracy: 0.5104 - val_loss: 1.3545 - val_accuracy: 0.5152\n",
      "Epoch 37/50\n",
      "50000/50000 [==============================] - 14s 290us/step - loss: 1.3716 - accuracy: 0.5107 - val_loss: 1.3547 - val_accuracy: 0.5170\n",
      "Epoch 38/50\n",
      "50000/50000 [==============================] - 15s 291us/step - loss: 1.3590 - accuracy: 0.5167 - val_loss: 1.3425 - val_accuracy: 0.5184\n",
      "Epoch 39/50\n",
      "50000/50000 [==============================] - 15s 292us/step - loss: 1.3554 - accuracy: 0.5157 - val_loss: 1.3431 - val_accuracy: 0.5193\n",
      "Epoch 40/50\n",
      "50000/50000 [==============================] - 15s 291us/step - loss: 1.3483 - accuracy: 0.5186 - val_loss: 1.3393 - val_accuracy: 0.5188\n",
      "Epoch 41/50\n",
      "50000/50000 [==============================] - 15s 291us/step - loss: 1.3395 - accuracy: 0.5218 - val_loss: 1.3376 - val_accuracy: 0.5241\n",
      "Epoch 42/50\n",
      "50000/50000 [==============================] - 15s 291us/step - loss: 1.3372 - accuracy: 0.5219 - val_loss: 1.3357 - val_accuracy: 0.5246\n",
      "Epoch 43/50\n",
      "50000/50000 [==============================] - 15s 291us/step - loss: 1.3272 - accuracy: 0.5263 - val_loss: 1.3388 - val_accuracy: 0.5228\n",
      "Epoch 44/50\n",
      "50000/50000 [==============================] - 15s 293us/step - loss: 1.3243 - accuracy: 0.5266 - val_loss: 1.3338 - val_accuracy: 0.5228\n",
      "Epoch 45/50\n",
      "50000/50000 [==============================] - 15s 291us/step - loss: 1.3202 - accuracy: 0.5273 - val_loss: 1.3386 - val_accuracy: 0.5280\n"
     ]
    },
    {
     "name": "stdout",
     "output_type": "stream",
     "text": [
      "Epoch 46/50\n",
      "50000/50000 [==============================] - 14s 277us/step - loss: 1.3078 - accuracy: 0.5323 - val_loss: 1.3167 - val_accuracy: 0.5259\n",
      "Epoch 47/50\n",
      "50000/50000 [==============================] - 14s 277us/step - loss: 1.3038 - accuracy: 0.5345 - val_loss: 1.3171 - val_accuracy: 0.5295\n",
      "Epoch 48/50\n",
      "50000/50000 [==============================] - 14s 277us/step - loss: 1.2948 - accuracy: 0.5373 - val_loss: 1.3226 - val_accuracy: 0.5258\n",
      "Epoch 49/50\n",
      "50000/50000 [==============================] - 14s 279us/step - loss: 1.2934 - accuracy: 0.5394 - val_loss: 1.3150 - val_accuracy: 0.5256\n",
      "Epoch 50/50\n",
      "50000/50000 [==============================] - 14s 278us/step - loss: 1.2816 - accuracy: 0.5408 - val_loss: 1.3240 - val_accuracy: 0.5262\n"
     ]
    }
   ],
   "source": [
    "results = {}\n",
    "\"\"\"Code Here\n",
    "撰寫你的訓練流程並將結果用 dictionary 紀錄\n",
    "\"\"\"\n",
    "model = build_mlp(input_shape=x_train.shape[1:], drp_ratio=Dropout_EXP)\n",
    "model.summary()\n",
    "optimizer = keras.optimizers.SGD(lr=LEARNING_RATE, nesterov=True, momentum=MOMENTUM)\n",
    "model.compile(loss=\"categorical_crossentropy\", metrics=[\"accuracy\"], optimizer=optimizer)\n",
    "\n",
    "model.fit(x_train, y_train, \n",
    "          epochs=EPOCHS, \n",
    "          batch_size=BATCH_SIZE, \n",
    "          validation_data=(x_test, y_test), \n",
    "          shuffle=True)\n",
    "\n",
    "# Collect results\n",
    "train_loss = model.history.history[\"loss\"]\n",
    "valid_loss = model.history.history[\"val_loss\"]\n",
    "train_acc = model.history.history[\"accuracy\"]\n",
    "valid_acc = model.history.history[\"val_accuracy\"]"
   ]
  },
  {
   "cell_type": "code",
   "execution_count": 10,
   "metadata": {},
   "outputs": [
    {
     "data": {
      "image/png": "[encoded data removed]",
      "text/plain": [
       "<Figure size 432x288 with 1 Axes>"
      ]
     },
     "metadata": {
      "needs_background": "light"
     },
     "output_type": "display_data"
    },
    {
     "data": {
      "image/png": "[encoded data removed]",
      "text/plain": [
       "<Figure size 432x288 with 1 Axes>"
      ]
     },
     "metadata": {
      "needs_background": "light"
     },
     "output_type": "display_data"
    }
   ],
   "source": [
    "import matplotlib.pyplot as plt\n",
    "%matplotlib inline\n",
    "\"\"\"Code Here\n",
    "將結果繪出\n",
    "\"\"\"\n",
    "plt.plot(range(len(train_loss)), train_loss, label=\"train loss\")\n",
    "plt.plot(range(len(valid_loss)), valid_loss, label=\"valid loss\")\n",
    "plt.legend()\n",
    "plt.title(\"Loss\")\n",
    "plt.show()\n",
    "\n",
    "plt.plot(range(len(train_acc)), train_acc, label=\"train accuracy\")\n",
    "plt.plot(range(len(valid_acc)), valid_acc, label=\"valid accuracy\")\n",
    "plt.legend()\n",
    "plt.title(\"Accuracy\")\n",
    "plt.show()"
   ]
  },
  {
   "cell_type": "code",
   "execution_count": null,
   "metadata": {},
   "outputs": [],
   "source": []
  }
 ],
 "metadata": {
  "kernelspec": {
   "display_name": "Python 3",
   "language": "python",
   "name": "python3"
  },
  "language_info": {
   "codemirror_mode": {
    "name": "ipython",
    "version": 3
   },
   "file_extension": ".py",
   "mimetype": "text/x-python",
   "name": "python",
   "nbconvert_exporter": "python",
   "pygments_lexer": "ipython3",
   "version": "3.7.3"
  }
 },
 "nbformat": 4,
 "nbformat_minor": 2
}
