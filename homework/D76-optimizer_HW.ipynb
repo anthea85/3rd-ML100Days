{
 "cells": [
  {
   "cell_type": "markdown",
   "metadata": {},
   "source": [
    "# 作業重點:\n",
    "\n",
    "(1)以, Adam, 為例, 調整 batch_size, epoch , 觀察accurancy, loss 的變化\n",
    "\n",
    "(2)以同一模型, 分別驗證 SGD, Adam, Rmsprop 的 accurancy"
   ]
  },
  {
   "cell_type": "markdown",
   "metadata": {},
   "source": [
    "# 作業目標:\n",
    "    \n",
    "    取得各種優化器的運算結果"
   ]
  },
  {
   "cell_type": "code",
   "execution_count": 1,
   "metadata": {
    "scrolled": false
   },
   "outputs": [
    {
     "name": "stdout",
     "output_type": "stream",
     "text": [
      "Requirement already satisfied: keras in c:\\users\\antheayangyc\\anaconda3\\lib\\site-packages (2.3.1)\n",
      "Requirement already satisfied: pyyaml in c:\\users\\antheayangyc\\anaconda3\\lib\\site-packages (from keras) (5.1.1)\n",
      "Requirement already satisfied: scipy>=0.14 in c:\\users\\antheayangyc\\anaconda3\\lib\\site-packages (from keras) (1.2.1)\n",
      "Requirement already satisfied: keras-applications>=1.0.6 in c:\\users\\antheayangyc\\anaconda3\\lib\\site-packages (from keras) (1.0.8)\n",
      "Requirement already satisfied: keras-preprocessing>=1.0.5 in c:\\users\\antheayangyc\\anaconda3\\lib\\site-packages (from keras) (1.1.0)\n",
      "Requirement already satisfied: six>=1.9.0 in c:\\users\\antheayangyc\\anaconda3\\lib\\site-packages (from keras) (1.12.0)\n",
      "Requirement already satisfied: h5py in c:\\users\\antheayangyc\\anaconda3\\lib\\site-packages (from keras) (2.9.0)\n",
      "Requirement already satisfied: numpy>=1.9.1 in c:\\users\\antheayangyc\\anaconda3\\lib\\site-packages (from keras) (1.17.4)\n",
      "Note: you may need to restart the kernel to use updated packages.\n"
     ]
    }
   ],
   "source": [
    "pip install keras"
   ]
  },
  {
   "cell_type": "code",
   "execution_count": 2,
   "metadata": {},
   "outputs": [
    {
     "name": "stderr",
     "output_type": "stream",
     "text": [
      "Using TensorFlow backend.\n"
     ]
    }
   ],
   "source": [
    "from __future__ import print_function\n",
    "import keras\n",
    "from keras.datasets import cifar10\n",
    "from keras.preprocessing.image import ImageDataGenerator\n",
    "from keras.models import Sequential\n",
    "from keras.layers import Dense, Dropout, Activation, Flatten\n",
    "from keras.layers import Conv2D, MaxPooling2D\n",
    "import os\n",
    "from keras import optimizers\n"
   ]
  },
  {
   "cell_type": "code",
   "execution_count": 3,
   "metadata": {},
   "outputs": [],
   "source": [
    "\n",
    "'''\n",
    "   宣告並設定\n",
    "   batch_size：對總的樣本數進行分組，每組包含的樣本數量\n",
    "   epochs ：訓練次數\n",
    "   \n",
    "''' \n",
    "\n",
    "batch_size = 32\n",
    "num_classes = 10\n",
    "epochs = 20\n",
    "data_augmentation = True\n",
    "num_predictions = 20\n",
    "save_dir = os.path.join(os.getcwd(), 'saved_models')\n",
    "model_name = 'keras_cifar10_trained_model.h5'\n"
   ]
  },
  {
   "cell_type": "code",
   "execution_count": 4,
   "metadata": {},
   "outputs": [
    {
     "name": "stdout",
     "output_type": "stream",
     "text": [
      "x_train shape: (50000, 32, 32, 3)\n",
      "50000 train samples\n",
      "10000 test samples\n"
     ]
    }
   ],
   "source": [
    "\n",
    "# The data, split between train and test sets:\n",
    "(x_train, y_train), (x_test, y_test) = cifar10.load_data()\n",
    "print('x_train shape:', x_train.shape)\n",
    "print(x_train.shape[0], 'train samples')\n",
    "print(x_test.shape[0], 'test samples')\n",
    "\n",
    "# Convert class vectors to binary class matrices.\n",
    "y_train = keras.utils.to_categorical(y_train, num_classes)\n",
    "y_test = keras.utils.to_categorical(y_test, num_classes)"
   ]
  },
  {
   "cell_type": "code",
   "execution_count": 5,
   "metadata": {},
   "outputs": [],
   "source": [
    "#    第一步：選擇模型, 順序模型是多個網絡層的線性堆疊\n",
    " \n",
    "model = Sequential()\n",
    "\n",
    "#   第二步：構建網絡層\n",
    "model.add(Conv2D(32, (3, 3), padding='same',\n",
    "                 input_shape=x_train.shape[1:]))\n",
    "model.add(Activation('relu'))\n",
    "model.add(Conv2D(32, (3, 3)))\n",
    "model.add(Activation('relu'))\n",
    "model.add(MaxPooling2D(pool_size=(2, 2)))\n",
    "model.add(Dropout(0.25))\n",
    "\n",
    "model.add(Conv2D(64, (3, 3), padding='same'))\n",
    "model.add(Activation('relu'))\n",
    "model.add(Conv2D(64, (3, 3)))\n",
    "model.add(Activation('relu'))\n",
    "model.add(MaxPooling2D(pool_size=(2, 2)))\n",
    "model.add(Dropout(0.25))\n",
    "\n",
    "model.add(Flatten())\n",
    "model.add(Dense(512))\n",
    "model.add(Activation('relu'))\n",
    "model.add(Dropout(0.5))\n",
    "\n",
    "model.add(Dense( 10)) # 輸出結果是10個類別，所以維度是10   \n",
    "model.add(Activation('softmax')) # 最後一層用softmax作為激活函數"
   ]
  },
  {
   "cell_type": "code",
   "execution_count": 6,
   "metadata": {
    "scrolled": true
   },
   "outputs": [
    {
     "name": "stdout",
     "output_type": "stream",
     "text": [
      "Total Parameters：1250858\n"
     ]
    }
   ],
   "source": [
    "# 模型建立完成後，統計參數總量\n",
    "print(\"Total Parameters：%d\" % model.count_params())"
   ]
  },
  {
   "cell_type": "code",
   "execution_count": 7,
   "metadata": {
    "scrolled": true
   },
   "outputs": [
    {
     "name": "stdout",
     "output_type": "stream",
     "text": [
      "Model: \"sequential_1\"\n",
      "_________________________________________________________________\n",
      "Layer (type)                 Output Shape              Param #   \n",
      "=================================================================\n",
      "conv2d_1 (Conv2D)            (None, 32, 32, 32)        896       \n",
      "_________________________________________________________________\n",
      "activation_1 (Activation)    (None, 32, 32, 32)        0         \n",
      "_________________________________________________________________\n",
      "conv2d_2 (Conv2D)            (None, 30, 30, 32)        9248      \n",
      "_________________________________________________________________\n",
      "activation_2 (Activation)    (None, 30, 30, 32)        0         \n",
      "_________________________________________________________________\n",
      "max_pooling2d_1 (MaxPooling2 (None, 15, 15, 32)        0         \n",
      "_________________________________________________________________\n",
      "dropout_1 (Dropout)          (None, 15, 15, 32)        0         \n",
      "_________________________________________________________________\n",
      "conv2d_3 (Conv2D)            (None, 15, 15, 64)        18496     \n",
      "_________________________________________________________________\n",
      "activation_3 (Activation)    (None, 15, 15, 64)        0         \n",
      "_________________________________________________________________\n",
      "conv2d_4 (Conv2D)            (None, 13, 13, 64)        36928     \n",
      "_________________________________________________________________\n",
      "activation_4 (Activation)    (None, 13, 13, 64)        0         \n",
      "_________________________________________________________________\n",
      "max_pooling2d_2 (MaxPooling2 (None, 6, 6, 64)          0         \n",
      "_________________________________________________________________\n",
      "dropout_2 (Dropout)          (None, 6, 6, 64)          0         \n",
      "_________________________________________________________________\n",
      "flatten_1 (Flatten)          (None, 2304)              0         \n",
      "_________________________________________________________________\n",
      "dense_1 (Dense)              (None, 512)               1180160   \n",
      "_________________________________________________________________\n",
      "activation_5 (Activation)    (None, 512)               0         \n",
      "_________________________________________________________________\n",
      "dropout_3 (Dropout)          (None, 512)               0         \n",
      "_________________________________________________________________\n",
      "dense_2 (Dense)              (None, 10)                5130      \n",
      "_________________________________________________________________\n",
      "activation_6 (Activation)    (None, 10)                0         \n",
      "=================================================================\n",
      "Total params: 1,250,858\n",
      "Trainable params: 1,250,858\n",
      "Non-trainable params: 0\n",
      "_________________________________________________________________\n"
     ]
    }
   ],
   "source": [
    "# 輸出模型摘要資訊\n",
    "model.summary()"
   ]
  },
  {
   "cell_type": "code",
   "execution_count": 8,
   "metadata": {},
   "outputs": [],
   "source": [
    "model.compile(optimizer = 'sgd', loss = 'categorical_crossentropy', metrics = ['accuracy'])"
   ]
  },
  {
   "cell_type": "code",
   "execution_count": 9,
   "metadata": {},
   "outputs": [],
   "source": [
    "# 資料正規化\n",
    "x_train = x_train.astype('float32')\n",
    "x_test = x_test.astype('float32')\n",
    "x_train /= 255\n",
    "x_test /= 255"
   ]
  },
  {
   "cell_type": "code",
   "execution_count": 10,
   "metadata": {
    "scrolled": true
   },
   "outputs": [
    {
     "name": "stdout",
     "output_type": "stream",
     "text": [
      "Using real-time data augmentation.\n",
      "\n",
      "Train on 50000 samples, validate on 10000 samples\n",
      "Epoch 1/20\n",
      "50000/50000 [==============================] - 288s 6ms/step - loss: 2.0593 - accuracy: 0.2403 - val_loss: 1.8295 - val_accuracy: 0.3494\n",
      "Epoch 2/20\n",
      "50000/50000 [==============================] - 285s 6ms/step - loss: 1.7531 - accuracy: 0.3606 - val_loss: 1.5864 - val_accuracy: 0.4293\n",
      "Epoch 3/20\n",
      "50000/50000 [==============================] - 324s 6ms/step - loss: 1.5944 - accuracy: 0.4178 - val_loss: 1.4658 - val_accuracy: 0.4736\n",
      "Epoch 4/20\n",
      "50000/50000 [==============================] - 344s 7ms/step - loss: 1.4696 - accuracy: 0.4684 - val_loss: 1.3246 - val_accuracy: 0.5273\n",
      "Epoch 5/20\n",
      "50000/50000 [==============================] - 332s 7ms/step - loss: 1.3789 - accuracy: 0.5024 - val_loss: 1.3115 - val_accuracy: 0.5300\n",
      "Epoch 6/20\n",
      "50000/50000 [==============================] - 350s 7ms/step - loss: 1.3045 - accuracy: 0.5346 - val_loss: 1.2146 - val_accuracy: 0.5665\n",
      "Epoch 7/20\n",
      "50000/50000 [==============================] - 321s 6ms/step - loss: 1.2403 - accuracy: 0.5571 - val_loss: 1.2321 - val_accuracy: 0.5567\n",
      "Epoch 8/20\n",
      "50000/50000 [==============================] - 278s 6ms/step - loss: 1.1869 - accuracy: 0.5789 - val_loss: 1.0900 - val_accuracy: 0.6151\n",
      "Epoch 9/20\n",
      "50000/50000 [==============================] - 287s 6ms/step - loss: 1.1394 - accuracy: 0.5966 - val_loss: 1.0966 - val_accuracy: 0.6161\n",
      "Epoch 10/20\n",
      "50000/50000 [==============================] - 317s 6ms/step - loss: 1.0913 - accuracy: 0.6141 - val_loss: 1.0043 - val_accuracy: 0.6438\n",
      "Epoch 11/20\n",
      "50000/50000 [==============================] - 310s 6ms/step - loss: 1.0524 - accuracy: 0.6307 - val_loss: 0.9530 - val_accuracy: 0.6634\n",
      "Epoch 12/20\n",
      "50000/50000 [==============================] - 337s 7ms/step - loss: 1.0143 - accuracy: 0.6402 - val_loss: 0.9485 - val_accuracy: 0.6720\n",
      "Epoch 13/20\n",
      "50000/50000 [==============================] - 353s 7ms/step - loss: 0.9841 - accuracy: 0.6534 - val_loss: 0.9166 - val_accuracy: 0.6760\n",
      "Epoch 14/20\n",
      "50000/50000 [==============================] - 344s 7ms/step - loss: 0.9535 - accuracy: 0.6640 - val_loss: 0.9078 - val_accuracy: 0.6834\n",
      "Epoch 15/20\n",
      "50000/50000 [==============================] - 375s 7ms/step - loss: 0.9224 - accuracy: 0.6746 - val_loss: 0.8599 - val_accuracy: 0.7023\n",
      "Epoch 16/20\n",
      "50000/50000 [==============================] - 402s 8ms/step - loss: 0.8947 - accuracy: 0.6852 - val_loss: 0.8311 - val_accuracy: 0.7098\n",
      "Epoch 17/20\n",
      "50000/50000 [==============================] - 391s 8ms/step - loss: 0.8707 - accuracy: 0.6939 - val_loss: 0.8388 - val_accuracy: 0.7008\n",
      "Epoch 18/20\n",
      "50000/50000 [==============================] - 396s 8ms/step - loss: 0.8491 - accuracy: 0.7011 - val_loss: 0.7890 - val_accuracy: 0.7280\n",
      "Epoch 19/20\n",
      "50000/50000 [==============================] - 343s 7ms/step - loss: 0.8186 - accuracy: 0.7098 - val_loss: 0.7899 - val_accuracy: 0.7257\n",
      "Epoch 20/20\n",
      "50000/50000 [==============================] - 378s 8ms/step - loss: 0.8017 - accuracy: 0.7163 - val_loss: 0.7594 - val_accuracy: 0.7322\n"
     ]
    }
   ],
   "source": [
    "if not data_augmentation:\n",
    "    print('Not using data augmentation.')\n",
    "    history=model.fit(x_train, y_train,\n",
    "              batch_size=batch_size,\n",
    "              epochs=epochs,\n",
    "              validation_data=(x_test, y_test),\n",
    "              shuffle=True)\n",
    "else:\n",
    "    print('Using real-time data augmentation.')\n",
    "    print('')\n",
    "        \n",
    "    datagen = ImageDataGenerator(\n",
    "        featurewise_center=False,\n",
    "        samplewise_center=False,\n",
    "        featurewise_std_normalization=False,\n",
    "        samplewise_std_normalization=False,\n",
    "        zca_whitening=False,\n",
    "        zca_epsilon=1e-06,\n",
    "        rotation_range=0,\n",
    "        width_shift_range=0.1,\n",
    "        height_shift_range=0.1,\n",
    "        shear_range=0.,\n",
    "        zoom_range=0.,\n",
    "        channel_shift_range=0.,\n",
    "        fill_mode='nearest',\n",
    "        cval=0.,\n",
    "        horizontal_flip=True,\n",
    "        vertical_flip=False,\n",
    "        rescale=None,\n",
    "        preprocessing_function=None,\n",
    "        data_format=None,\n",
    "        validation_split=0.0)\n",
    "\n",
    "    datagen.fit(x_train)\n",
    "    history=model.fit(x_train, y_train,\n",
    "              batch_size=batch_size,\n",
    "              epochs=epochs,\n",
    "              validation_data=(x_test, y_test),\n",
    "              shuffle=True)   "
   ]
  },
  {
   "cell_type": "code",
   "execution_count": 11,
   "metadata": {},
   "outputs": [
    {
     "name": "stdout",
     "output_type": "stream",
     "text": [
      "Saved trained model at C:\\Users\\antheayangyc\\Documents\\GitHub\\3rd-ML100Days\\homework\\saved_models\\keras_cifar10_trained_model.h5 \n",
      "10000/10000 [==============================] - 14s 1ms/step\n",
      "Test loss: 0.7594213123321534\n",
      "Test accuracy: 0.732200026512146\n"
     ]
    }
   ],
   "source": [
    "if not os.path.isdir(save_dir):\n",
    "    os.makedirs(save_dir)\n",
    "model_path = os.path.join(save_dir, model_name)\n",
    "model.save(model_path)\n",
    "print('Saved trained model at %s ' % model_path)\n",
    "\n",
    "# Score trained model.\n",
    "scores = model.evaluate(x_test, y_test, verbose=1)\n",
    "print('Test loss:', scores[0])\n",
    "print('Test accuracy:', scores[1])"
   ]
  },
  {
   "cell_type": "code",
   "execution_count": 12,
   "metadata": {},
   "outputs": [
    {
     "name": "stdout",
     "output_type": "stream",
     "text": [
      " test set \n",
      "\n",
      " The test loss is %f  [0.7594213223457337, 0.732200026512146]\n"
     ]
    }
   ],
   "source": [
    "import numpy \n",
    "\n",
    "print ( \" test set \" )\n",
    "scores = model.evaluate(x_test,y_test,batch_size=200,verbose= 0)\n",
    "print ( \"\" )\n",
    "#print ( \" The test loss is %f \" % scores)\n",
    "print ( \" The test loss is %f \", scores)\n",
    "\n",
    "\n",
    "result = model.predict(x_test,batch_size=200,verbose= 0)\n",
    "\n",
    "result_max = numpy.argmax(result, axis = 1 )\n",
    "test_max = numpy.argmax(y_test, axis = 1 )\n",
    "\n",
    "result_bool = numpy.equal(result_max, test_max)\n",
    "true_num = numpy.sum(result_bool)"
   ]
  },
  {
   "cell_type": "code",
   "execution_count": 13,
   "metadata": {},
   "outputs": [
    {
     "data": {
      "image/png": "[encoded data removed]",
      "text/plain": [
       "<Figure size 432x288 with 1 Axes>"
      ]
     },
     "metadata": {
      "needs_background": "light"
     },
     "output_type": "display_data"
    },
    {
     "data": {
      "image/png": "[encoded data removed]",
      "text/plain": [
       "<Figure size 432x288 with 1 Axes>"
      ]
     },
     "metadata": {
      "needs_background": "light"
     },
     "output_type": "display_data"
    }
   ],
   "source": [
    "import matplotlib.pyplot as plt\n",
    "%matplotlib inline\n",
    "\n",
    "# Plot training & validation accuracy values\n",
    "plt.plot(history.history['accuracy'])\n",
    "plt.plot(history.history['val_accuracy'])\n",
    "plt.title('Model accuracy')\n",
    "plt.ylabel('Accuracy')\n",
    "plt.xlabel('Epoch')\n",
    "plt.legend(['Train', 'Valiidation'], loc='upper left')\n",
    "plt.show()\n",
    "\n",
    "# Plot training & validation loss values\n",
    "plt.plot(history.history['loss'])\n",
    "plt.plot(history.history['val_loss'])\n",
    "plt.title('Model loss')\n",
    "plt.ylabel('Loss')\n",
    "plt.xlabel('Epoch')\n",
    "plt.legend(['Train', 'Valiidation'], loc='upper left')\n",
    "plt.show()"
   ]
  },
  {
   "cell_type": "code",
   "execution_count": 14,
   "metadata": {},
   "outputs": [],
   "source": [
    "model.compile(optimizer = 'rmsprop', loss = 'categorical_crossentropy', metrics = ['accuracy'])"
   ]
  },
  {
   "cell_type": "code",
   "execution_count": 15,
   "metadata": {},
   "outputs": [],
   "source": [
    "x_train = x_train.astype('float32')\n",
    "x_test = x_test.astype('float32')\n",
    "x_train /= 255\n",
    "x_test /= 255"
   ]
  },
  {
   "cell_type": "code",
   "execution_count": 16,
   "metadata": {
    "scrolled": true
   },
   "outputs": [
    {
     "name": "stdout",
     "output_type": "stream",
     "text": [
      "Using real-time data augmentation.\n",
      "\n",
      "Train on 50000 samples, validate on 10000 samples\n",
      "Epoch 1/20\n",
      "50000/50000 [==============================] - 482s 10ms/step - loss: 2.0649 - accuracy: 0.2402 - val_loss: 1.7067 - val_accuracy: 0.3865\n",
      "Epoch 2/20\n",
      "50000/50000 [==============================] - 521s 10ms/step - loss: 1.7409 - accuracy: 0.3811 - val_loss: 1.6887 - val_accuracy: 0.3872\n",
      "Epoch 3/20\n",
      "50000/50000 [==============================] - 452s 9ms/step - loss: 1.6372 - accuracy: 0.4165 - val_loss: 1.4544 - val_accuracy: 0.4786\n",
      "Epoch 4/20\n",
      "50000/50000 [==============================] - 559s 11ms/step - loss: 1.5522 - accuracy: 0.4484 - val_loss: 1.4400 - val_accuracy: 0.4865\n",
      "Epoch 5/20\n",
      "50000/50000 [==============================] - 399s 8ms/step - loss: 1.4780 - accuracy: 0.4797 - val_loss: 1.5844 - val_accuracy: 0.4439\n",
      "Epoch 6/20\n",
      "50000/50000 [==============================] - 395s 8ms/step - loss: 1.4310 - accuracy: 0.4987 - val_loss: 1.2707 - val_accuracy: 0.5552\n",
      "Epoch 7/20\n",
      "50000/50000 [==============================] - 392s 8ms/step - loss: 1.3833 - accuracy: 0.5200 - val_loss: 1.4941 - val_accuracy: 0.5029\n",
      "Epoch 8/20\n",
      "50000/50000 [==============================] - 398s 8ms/step - loss: 1.3658 - accuracy: 0.5265 - val_loss: 1.2629 - val_accuracy: 0.5588\n",
      "Epoch 9/20\n",
      "50000/50000 [==============================] - 407s 8ms/step - loss: 1.3432 - accuracy: 0.5358 - val_loss: 1.2524 - val_accuracy: 0.5666\n",
      "Epoch 10/20\n",
      "50000/50000 [==============================] - 314s 6ms/step - loss: 1.3342 - accuracy: 0.5439 - val_loss: 1.1978 - val_accuracy: 0.5862\n",
      "Epoch 11/20\n",
      "50000/50000 [==============================] - 294s 6ms/step - loss: 1.3313 - accuracy: 0.5445 - val_loss: 1.2206 - val_accuracy: 0.5898\n",
      "Epoch 12/20\n",
      "50000/50000 [==============================] - 297s 6ms/step - loss: 1.3451 - accuracy: 0.5428 - val_loss: 1.2589 - val_accuracy: 0.5601\n",
      "Epoch 13/20\n",
      "50000/50000 [==============================] - 295s 6ms/step - loss: 1.3672 - accuracy: 0.5368 - val_loss: 1.4307 - val_accuracy: 0.5193\n",
      "Epoch 14/20\n",
      "50000/50000 [==============================] - 295s 6ms/step - loss: 1.3819 - accuracy: 0.5354 - val_loss: 1.4602 - val_accuracy: 0.5354\n",
      "Epoch 15/20\n",
      "50000/50000 [==============================] - 297s 6ms/step - loss: 1.4078 - accuracy: 0.5250 - val_loss: 1.2134 - val_accuracy: 0.5816\n",
      "Epoch 16/20\n",
      "50000/50000 [==============================] - 304s 6ms/step - loss: 1.4290 - accuracy: 0.5213 - val_loss: 1.6340 - val_accuracy: 0.5068\n",
      "Epoch 17/20\n",
      "50000/50000 [==============================] - 296s 6ms/step - loss: 1.4609 - accuracy: 0.5109 - val_loss: 1.3192 - val_accuracy: 0.5433\n",
      "Epoch 18/20\n",
      "50000/50000 [==============================] - 294s 6ms/step - loss: 1.4681 - accuracy: 0.5042 - val_loss: 1.9523 - val_accuracy: 0.5345\n",
      "Epoch 19/20\n",
      "50000/50000 [==============================] - 294s 6ms/step - loss: 1.4997 - accuracy: 0.4970 - val_loss: 1.4878 - val_accuracy: 0.4816\n",
      "Epoch 20/20\n",
      "50000/50000 [==============================] - 296s 6ms/step - loss: 1.5279 - accuracy: 0.4890 - val_loss: 1.3458 - val_accuracy: 0.5339\n"
     ]
    }
   ],
   "source": [
    "if not data_augmentation:\n",
    "    print('Not using data augmentation.')\n",
    "    history=model.fit(x_train, y_train,\n",
    "              batch_size=batch_size,\n",
    "              epochs=epochs,\n",
    "              validation_data=(x_test, y_test),\n",
    "              shuffle=True)\n",
    "else:\n",
    "    print('Using real-time data augmentation.')\n",
    "    print('')\n",
    "        \n",
    "    datagen = ImageDataGenerator(\n",
    "        featurewise_center=False,\n",
    "        samplewise_center=False,\n",
    "        featurewise_std_normalization=False,\n",
    "        samplewise_std_normalization=False,\n",
    "        zca_whitening=False,\n",
    "        zca_epsilon=1e-06,\n",
    "        rotation_range=0,\n",
    "        width_shift_range=0.1,\n",
    "        height_shift_range=0.1,\n",
    "        shear_range=0.,\n",
    "        zoom_range=0.,\n",
    "        channel_shift_range=0.,\n",
    "        fill_mode='nearest',\n",
    "        cval=0.,\n",
    "        horizontal_flip=True,\n",
    "        vertical_flip=False,\n",
    "        rescale=None,\n",
    "        preprocessing_function=None,\n",
    "        data_format=None,\n",
    "        validation_split=0.0)\n",
    "\n",
    "    datagen.fit(x_train)\n",
    "    history=model.fit(x_train, y_train,\n",
    "              batch_size=batch_size,\n",
    "              epochs=epochs,\n",
    "              validation_data=(x_test, y_test),\n",
    "              shuffle=True)   "
   ]
  },
  {
   "cell_type": "code",
   "execution_count": 17,
   "metadata": {},
   "outputs": [
    {
     "name": "stdout",
     "output_type": "stream",
     "text": [
      "Saved trained model at C:\\Users\\antheayangyc\\Documents\\GitHub\\3rd-ML100Days\\homework\\saved_models\\keras_cifar10_trained_model.h5 \n",
      "10000/10000 [==============================] - 11s 1ms/step\n",
      "Test loss: 1.3458153722763062\n",
      "Test accuracy: 0.5339000225067139\n"
     ]
    }
   ],
   "source": [
    "if not os.path.isdir(save_dir):\n",
    "    os.makedirs(save_dir)\n",
    "model_path = os.path.join(save_dir, model_name)\n",
    "model.save(model_path)\n",
    "print('Saved trained model at %s ' % model_path)\n",
    "\n",
    "# Score trained model.\n",
    "scores = model.evaluate(x_test, y_test, verbose=1)\n",
    "print('Test loss:', scores[0])\n",
    "print('Test accuracy:', scores[1])"
   ]
  },
  {
   "cell_type": "code",
   "execution_count": 18,
   "metadata": {},
   "outputs": [
    {
     "name": "stdout",
     "output_type": "stream",
     "text": [
      " test set \n",
      "\n",
      " The test loss is %f  [1.3458153772354127, 0.5339000225067139]\n"
     ]
    }
   ],
   "source": [
    "import numpy \n",
    "\n",
    "print ( \" test set \" )\n",
    "scores = model.evaluate(x_test,y_test,batch_size=200,verbose= 0)\n",
    "print ( \"\" )\n",
    "#print ( \" The test loss is %f \" % scores)\n",
    "print ( \" The test loss is %f \", scores)\n",
    "\n",
    "\n",
    "result = model.predict(x_test,batch_size=200,verbose= 0)\n",
    "\n",
    "result_max = numpy.argmax(result, axis = 1 )\n",
    "test_max = numpy.argmax(y_test, axis = 1 )\n",
    "\n",
    "result_bool = numpy.equal(result_max, test_max)\n",
    "true_num = numpy.sum(result_bool)"
   ]
  },
  {
   "cell_type": "code",
   "execution_count": 19,
   "metadata": {},
   "outputs": [
    {
     "data": {
      "image/png": "[encoded data removed]",
      "text/plain": [
       "<Figure size 432x288 with 1 Axes>"
      ]
     },
     "metadata": {
      "needs_background": "light"
     },
     "output_type": "display_data"
    },
    {
     "data": {
      "image/png": "[encoded data removed]",
      "text/plain": [
       "<Figure size 432x288 with 1 Axes>"
      ]
     },
     "metadata": {
      "needs_background": "light"
     },
     "output_type": "display_data"
    }
   ],
   "source": [
    "import matplotlib.pyplot as plt\n",
    "%matplotlib inline\n",
    "\n",
    "# Plot training & validation accuracy values\n",
    "plt.plot(history.history['accuracy'])\n",
    "plt.plot(history.history['val_accuracy'])\n",
    "plt.title('Model accuracy')\n",
    "plt.ylabel('Accuracy')\n",
    "plt.xlabel('Epoch')\n",
    "plt.legend(['Train', 'Valiidation'], loc='upper left')\n",
    "plt.show()\n",
    "\n",
    "# Plot training & validation loss values\n",
    "plt.plot(history.history['loss'])\n",
    "plt.plot(history.history['val_loss'])\n",
    "plt.title('Model loss')\n",
    "plt.ylabel('Loss')\n",
    "plt.xlabel('Epoch')\n",
    "plt.legend(['Train', 'Valiidation'], loc='upper left')\n",
    "plt.show()"
   ]
  },
  {
   "cell_type": "code",
   "execution_count": 9,
   "metadata": {},
   "outputs": [],
   "source": [
    "#第三步編譯\n",
    "'''\n",
    " SGD(隨機梯度下降) - Arguments\n",
    "lr: float >= 0. Learning rate.\n",
    "momentum: float >= 0. Parameter that accelerates SGD in the relevant direction and dampens oscillations.\n",
    "decay: float >= 0. Learning rate decay over each update.\n",
    "nesterov: boolean. Whether to apply Nesterov momentum.\n",
    "'''\n",
    "'''\n",
    "RMSprop- Arguments\n",
    "lr: float >= 0. Learning rate.\n",
    "rho: float >= 0.\n",
    "epsilon: float >= 0. Fuzz factor. If None, defaults to K.epsilon().\n",
    "decay: float >= 0. Learning rate decay over each update.\n",
    "'''\n",
    "'''\n",
    "Example:\n",
    "opt = optimizers.SGD(lr=0.01, decay=1e-6, momentum=0.9, nesterov=True)\n",
    "'''\n",
    "\n",
    "model.compile(optimizer = 'adam', loss = 'categorical_crossentropy', metrics = ['accuracy'])\n"
   ]
  },
  {
   "cell_type": "code",
   "execution_count": 10,
   "metadata": {},
   "outputs": [],
   "source": [
    "# 資料正規化\n",
    "x_train = x_train.astype('float32')\n",
    "x_test = x_test.astype('float32')\n",
    "x_train /= 255\n",
    "x_test /= 255"
   ]
  },
  {
   "cell_type": "code",
   "execution_count": 11,
   "metadata": {
    "scrolled": true
   },
   "outputs": [
    {
     "name": "stdout",
     "output_type": "stream",
     "text": [
      "Using real-time data augmentation.\n",
      "\n",
      "Train on 50000 samples, validate on 10000 samples\n",
      "Epoch 1/20\n",
      "50000/50000 [==============================] - 322s 6ms/step - loss: 1.5439 - accuracy: 0.4344 - val_loss: 1.2001 - val_accuracy: 0.5784\n",
      "Epoch 2/20\n",
      "50000/50000 [==============================] - 302s 6ms/step - loss: 1.1710 - accuracy: 0.5840 - val_loss: 0.9764 - val_accuracy: 0.6594\n",
      "Epoch 3/20\n",
      "50000/50000 [==============================] - 297s 6ms/step - loss: 1.0131 - accuracy: 0.6423 - val_loss: 0.8860 - val_accuracy: 0.6866oss: 1.0142 - accu - ETA\n",
      "Epoch 4/20\n",
      "50000/50000 [==============================] - 297s 6ms/step - loss: 0.9198 - accuracy: 0.6771 - val_loss: 0.8466 - val_accuracy: 0.7062\n",
      "Epoch 5/20\n",
      "50000/50000 [==============================] - 297s 6ms/step - loss: 0.8507 - accuracy: 0.6996 - val_loss: 0.7648 - val_accuracy: 0.7368\n",
      "Epoch 6/20\n",
      "50000/50000 [==============================] - 298s 6ms/step - loss: 0.8013 - accuracy: 0.7187 - val_loss: 0.7785 - val_accuracy: 0.7265\n",
      "Epoch 7/20\n",
      "50000/50000 [==============================] - 297s 6ms/step - loss: 0.7575 - accuracy: 0.7353 - val_loss: 0.7178 - val_accuracy: 0.7553\n",
      "Epoch 8/20\n",
      "50000/50000 [==============================] - 299s 6ms/step - loss: 0.7236 - accuracy: 0.7464 - val_loss: 0.7288 - val_accuracy: 0.7486\n",
      "Epoch 9/20\n",
      "50000/50000 [==============================] - 302s 6ms/step - loss: 0.6933 - accuracy: 0.7559 - val_loss: 0.7036 - val_accuracy: 0.7617\n",
      "Epoch 10/20\n",
      "50000/50000 [==============================] - 298s 6ms/step - loss: 0.6698 - accuracy: 0.7641 - val_loss: 0.7017 - val_accuracy: 0.7575\n",
      "Epoch 11/20\n",
      "50000/50000 [==============================] - 295s 6ms/step - loss: 0.6492 - accuracy: 0.7731 - val_loss: 0.6982 - val_accuracy: 0.7645 - accu\n",
      "Epoch 12/20\n",
      "50000/50000 [==============================] - 297s 6ms/step - loss: 0.6273 - accuracy: 0.7787 - val_loss: 0.6746 - val_accuracy: 0.7717\n",
      "Epoch 13/20\n",
      "50000/50000 [==============================] - 296s 6ms/step - loss: 0.5982 - accuracy: 0.7897 - val_loss: 0.6781 - val_accuracy: 0.7682\n",
      "Epoch 14/20\n",
      "50000/50000 [==============================] - 298s 6ms/step - loss: 0.5961 - accuracy: 0.7895 - val_loss: 0.6857 - val_accuracy: 0.7689\n",
      "Epoch 15/20\n",
      "50000/50000 [==============================] - 296s 6ms/step - loss: 0.5808 - accuracy: 0.7960 - val_loss: 0.7014 - val_accuracy: 0.7636\n",
      "Epoch 16/20\n",
      "50000/50000 [==============================] - 297s 6ms/step - loss: 0.5644 - accuracy: 0.8010 - val_loss: 0.6688 - val_accuracy: 0.7755\n",
      "Epoch 17/20\n",
      "50000/50000 [==============================] - 299s 6ms/step - loss: 0.5502 - accuracy: 0.8061 - val_loss: 0.6813 - val_accuracy: 0.7738\n",
      "Epoch 18/20\n",
      "50000/50000 [==============================] - 298s 6ms/step - loss: 0.5422 - accuracy: 0.8092 - val_loss: 0.6591 - val_accuracy: 0.7810\n",
      "Epoch 19/20\n",
      "50000/50000 [==============================] - 297s 6ms/step - loss: 0.5356 - accuracy: 0.8093 - val_loss: 0.6845 - val_accuracy: 0.7771\n",
      "Epoch 20/20\n",
      "50000/50000 [==============================] - 299s 6ms/step - loss: 0.5193 - accuracy: 0.8183 - val_loss: 0.6670 - val_accuracy: 0.7792\n"
     ]
    },
    {
     "data": {
      "text/plain": [
       "'\\n   第四步：訓練\\n   .fit的一些參數\\n   batch_size：對總的樣本數進行分組，每組包含的樣本數量\\n   epochs ：訓練次數\\n   shuffle：是否把數據隨機打亂之後再進行訓練\\n   validation_split：拿出百分之多少用來做交叉驗證\\n   verbose：屏顯模式 - 0：不輸出, 1：輸出進度, 2：輸出每次的訓練結果\\n'"
      ]
     },
     "execution_count": 11,
     "metadata": {},
     "output_type": "execute_result"
    }
   ],
   "source": [
    "# 是否要做資料處理\n",
    "if not data_augmentation:\n",
    "    print('Not using data augmentation.')\n",
    "    history=model.fit(x_train, y_train,\n",
    "              batch_size=batch_size,\n",
    "              epochs=epochs,\n",
    "              validation_data=(x_test, y_test),\n",
    "              shuffle=True)\n",
    "else:\n",
    "    print('Using real-time data augmentation.')\n",
    "    print('')\n",
    "        \n",
    "    # This will do preprocessing and realtime data augmentation:\n",
    "    datagen = ImageDataGenerator(\n",
    "        featurewise_center=False,  # set input mean to 0 over the dataset\n",
    "        samplewise_center=False,  # set each sample mean to 0\n",
    "        featurewise_std_normalization=False,  # divide inputs by std of the dataset\n",
    "        samplewise_std_normalization=False,  # divide each input by its std\n",
    "        zca_whitening=False,  # apply ZCA whitening\n",
    "        zca_epsilon=1e-06,  # epsilon for ZCA whitening\n",
    "        rotation_range=0,  # randomly rotate images in the range (degrees, 0 to 180)\n",
    "        # randomly shift images horizontally (fraction of total width)\n",
    "        width_shift_range=0.1,\n",
    "        # randomly shift images vertically (fraction of total height)\n",
    "        height_shift_range=0.1,\n",
    "        shear_range=0.,  # set range for random shear\n",
    "        zoom_range=0.,  # set range for random zoom\n",
    "        channel_shift_range=0.,  # set range for random channel shifts\n",
    "        # set mode for filling points outside the input boundaries\n",
    "        fill_mode='nearest',\n",
    "        cval=0.,  # value used for fill_mode = \"constant\"\n",
    "        horizontal_flip=True,  # randomly flip images\n",
    "        vertical_flip=False,  # randomly flip images\n",
    "        # set rescaling factor (applied before any other transformation)\n",
    "        rescale=None,\n",
    "        # set function that will be applied on each input\n",
    "        preprocessing_function=None,\n",
    "        # image data format, either \"channels_first\" or \"channels_last\"\n",
    "        data_format=None,\n",
    "        # fraction of images reserved for validation (strictly between 0 and 1)\n",
    "        validation_split=0.0)\n",
    "\n",
    "    # Compute quantities required for feature-wise normalization\n",
    "    # (std, mean, and principal components if ZCA whitening is applied).\n",
    "    datagen.fit(x_train)\n",
    "    history=model.fit(x_train, y_train,\n",
    "              batch_size=batch_size,\n",
    "              epochs=epochs,\n",
    "              validation_data=(x_test, y_test),\n",
    "              shuffle=True)   \n",
    "\n",
    "'''\n",
    "   第四步：訓練\n",
    "   .fit的一些參數\n",
    "   batch_size：對總的樣本數進行分組，每組包含的樣本數量\n",
    "   epochs ：訓練次數\n",
    "   shuffle：是否把數據隨機打亂之後再進行訓練\n",
    "   validation_split：拿出百分之多少用來做交叉驗證\n",
    "   verbose：屏顯模式 - 0：不輸出, 1：輸出進度, 2：輸出每次的訓練結果\n",
    "''' \n",
    "    "
   ]
  },
  {
   "cell_type": "code",
   "execution_count": 12,
   "metadata": {},
   "outputs": [
    {
     "name": "stdout",
     "output_type": "stream",
     "text": [
      "Saved trained model at C:\\Users\\antheayangyc\\Documents\\GitHub\\3rd-ML100Days\\homework\\saved_models\\keras_cifar10_trained_model.h5 \n",
      "10000/10000 [==============================] - 12s 1ms/step\n",
      "Test loss: 0.6669772138595581\n",
      "Test accuracy: 0.77920001745224\n"
     ]
    }
   ],
   "source": [
    "# Save model and weights\n",
    "if not os.path.isdir(save_dir):\n",
    "    os.makedirs(save_dir)\n",
    "model_path = os.path.join(save_dir, model_name)\n",
    "model.save(model_path)\n",
    "print('Saved trained model at %s ' % model_path)\n",
    "\n",
    "# Score trained model.\n",
    "scores = model.evaluate(x_test, y_test, verbose=1)\n",
    "print('Test loss:', scores[0])\n",
    "print('Test accuracy:', scores[1])"
   ]
  },
  {
   "cell_type": "code",
   "execution_count": 13,
   "metadata": {},
   "outputs": [
    {
     "name": "stdout",
     "output_type": "stream",
     "text": [
      " test set \n",
      "\n",
      " The test loss is %f  [0.6669772148132325, 0.77920001745224]\n"
     ]
    }
   ],
   "source": [
    "#    第六步：輸出\n",
    "import numpy \n",
    "\n",
    "print ( \" test set \" )\n",
    "scores = model.evaluate(x_test,y_test,batch_size=200,verbose= 0)\n",
    "print ( \"\" )\n",
    "#print ( \" The test loss is %f \" % scores)\n",
    "print ( \" The test loss is %f \", scores)\n",
    "\n",
    "\n",
    "result = model.predict(x_test,batch_size=200,verbose= 0)\n",
    "\n",
    "result_max = numpy.argmax(result, axis = 1 )\n",
    "test_max = numpy.argmax(y_test, axis = 1 )\n",
    "\n",
    "result_bool = numpy.equal(result_max, test_max)\n",
    "true_num = numpy.sum(result_bool)\n"
   ]
  },
  {
   "cell_type": "code",
   "execution_count": 15,
   "metadata": {},
   "outputs": [
    {
     "data": {
      "image/png": "[encoded data removed]",
      "text/plain": [
       "<Figure size 432x288 with 1 Axes>"
      ]
     },
     "metadata": {
      "needs_background": "light"
     },
     "output_type": "display_data"
    },
    {
     "data": {
      "image/png": "[encoded data removed]",
      "text/plain": [
       "<Figure size 432x288 with 1 Axes>"
      ]
     },
     "metadata": {
      "needs_background": "light"
     },
     "output_type": "display_data"
    }
   ],
   "source": [
    "import matplotlib.pyplot as plt\n",
    "%matplotlib inline\n",
    "\n",
    "# Plot training & validation accuracy values\n",
    "plt.plot(history.history['accuracy'])\n",
    "plt.plot(history.history['val_accuracy'])\n",
    "plt.title('Model accuracy')\n",
    "plt.ylabel('Accuracy')\n",
    "plt.xlabel('Epoch')\n",
    "plt.legend(['Train', 'Valiidation'], loc='upper left')\n",
    "plt.show()\n",
    "\n",
    "# Plot training & validation loss values\n",
    "plt.plot(history.history['loss'])\n",
    "plt.plot(history.history['val_loss'])\n",
    "plt.title('Model loss')\n",
    "plt.ylabel('Loss')\n",
    "plt.xlabel('Epoch')\n",
    "plt.legend(['Train', 'Valiidation'], loc='upper left')\n",
    "plt.show()"
   ]
  },
  {
   "cell_type": "code",
   "execution_count": null,
   "metadata": {},
   "outputs": [],
   "source": []
  }
 ],
 "metadata": {
  "kernelspec": {
   "display_name": "Python 3",
   "language": "python",
   "name": "python3"
  },
  "language_info": {
   "codemirror_mode": {
    "name": "ipython",
    "version": 3
   },
   "file_extension": ".py",
   "mimetype": "text/x-python",
   "name": "python",
   "nbconvert_exporter": "python",
   "pygments_lexer": "ipython3",
   "version": "3.7.3"
  }
 },
 "nbformat": 4,
 "nbformat_minor": 2
}
